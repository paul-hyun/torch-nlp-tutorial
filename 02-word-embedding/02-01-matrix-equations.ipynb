{
  "nbformat": 4,
  "nbformat_minor": 0,
  "metadata": {
    "colab": {
      "name": "02-01-matrix-equations.ipynb",
      "provenance": [],
      "collapsed_sections": [
        "cxsyY8pZLzc3",
        "uw3bdBCfvab9",
        "AYD2R-WgvF8m",
        "RCon06PZitdL",
        "r4LdaCxVi6gP",
        "98CwYRFaqHXR",
        "KOU4eIUztUce",
        "bL3hGDaDtUcp",
        "0bNB6Vf4tUcp",
        "E_VoOCpWtUcq",
        "otdIXn2v8BYE",
        "Vayb1bc-qStn"
      ],
      "toc_visible": true
    },
    "kernelspec": {
      "name": "python3",
      "display_name": "Python 3"
    }
  },
  "cells": [
    {
      "cell_type": "markdown",
      "metadata": {
        "id": "cxsyY8pZLzc3"
      },
      "source": [
        "# Env"
      ]
    },
    {
      "cell_type": "code",
      "metadata": {
        "id": "Smf88lfWLrtG"
      },
      "source": [
        "import easydict\n",
        "import random\n",
        "\n",
        "import matplotlib.pyplot as plt\n",
        "import numpy as np\n",
        "import torch"
      ],
      "execution_count": 1,
      "outputs": []
    },
    {
      "cell_type": "code",
      "metadata": {
        "colab": {
          "base_uri": "https://localhost:8080/"
        },
        "id": "ITwgwofw5mfH",
        "outputId": "efa68549-74e2-4fe6-c8b6-8d834b92f0bb"
      },
      "source": [
        "# 환경 설정\n",
        "args = easydict.EasyDict({\n",
        "    # random seed value\n",
        "    \"seed\": 1234,\n",
        "    # CPU 또는 GPU 사용여부 결정\n",
        "    \"device\": torch.device(\"cuda\" if torch.cuda.is_available() else \"cpu\")\n",
        "})\n",
        "\n",
        "print(args)"
      ],
      "execution_count": 2,
      "outputs": [
        {
          "output_type": "stream",
          "text": [
            "{'seed': 1234, 'device': device(type='cpu')}\n"
          ],
          "name": "stdout"
        }
      ]
    },
    {
      "cell_type": "code",
      "metadata": {
        "id": "WT-r7T0-Lx3k"
      },
      "source": [
        "# random seed 설정\n",
        "random.seed(args.seed)\n",
        "np.random.seed(args.seed)\n",
        "torch.manual_seed(args.seed)\n",
        "torch.cuda.manual_seed_all(args.seed)"
      ],
      "execution_count": 3,
      "outputs": []
    },
    {
      "cell_type": "markdown",
      "metadata": {
        "id": "uw3bdBCfvab9"
      },
      "source": [
        "# 행렬 A"
      ]
    },
    {
      "cell_type": "code",
      "metadata": {
        "colab": {
          "base_uri": "https://localhost:8080/"
        },
        "id": "ahe_q3oCvZrZ",
        "outputId": "bb5d1677-9a5c-4070-92a0-9359962b89c3"
      },
      "source": [
        "# A 행렬 선언\n",
        "A = np.random.randint(-9, 10, (5, 4)) / 10\n",
        "A = torch.tensor(A)\n",
        "print(A)"
      ],
      "execution_count": 4,
      "outputs": [
        {
          "output_type": "stream",
          "text": [
            "tensor([[ 0.6000, -0.3000,  0.3000,  0.6000],\n",
            "        [ 0.8000,  0.0000,  0.2000,  0.3000],\n",
            "        [ 0.7000, -0.4000,  0.7000,  0.0000],\n",
            "        [ 0.6000,  0.9000,  0.7000,  0.3000],\n",
            "        [-0.4000, -0.7000, -0.3000, -0.6000]], dtype=torch.float64)\n"
          ],
          "name": "stdout"
        }
      ]
    },
    {
      "cell_type": "markdown",
      "metadata": {
        "id": "AYD2R-WgvF8m"
      },
      "source": [
        "# Element Wise Sum"
      ]
    },
    {
      "cell_type": "code",
      "metadata": {
        "colab": {
          "base_uri": "https://localhost:8080/"
        },
        "id": "ci782slKuTeK",
        "outputId": "ddd04abc-ed0d-4b55-ac78-a89ad8adedcf"
      },
      "source": [
        "# B 행렬 합\n",
        "B = np.random.randint(-9, 10, (5, 4)) / 10\n",
        "B = torch.tensor(B)\n",
        "\n",
        "print(A)\n",
        "print(B)\n",
        "print(A + B)"
      ],
      "execution_count": 5,
      "outputs": [
        {
          "output_type": "stream",
          "text": [
            "tensor([[ 0.6000, -0.3000,  0.3000,  0.6000],\n",
            "        [ 0.8000,  0.0000,  0.2000,  0.3000],\n",
            "        [ 0.7000, -0.4000,  0.7000,  0.0000],\n",
            "        [ 0.6000,  0.9000,  0.7000,  0.3000],\n",
            "        [-0.4000, -0.7000, -0.3000, -0.6000]], dtype=torch.float64)\n",
            "tensor([[-0.2000,  0.2000, -0.9000,  0.0000],\n",
            "        [ 0.2000,  0.7000, -0.6000, -0.7000],\n",
            "        [ 0.3000, -0.8000,  0.2000,  0.2000],\n",
            "        [ 0.8000,  0.5000, -0.2000,  0.1000],\n",
            "        [ 0.2000,  0.5000,  0.8000,  0.4000]], dtype=torch.float64)\n",
            "tensor([[ 0.4000, -0.1000, -0.6000,  0.6000],\n",
            "        [ 1.0000,  0.7000, -0.4000, -0.4000],\n",
            "        [ 1.0000, -1.2000,  0.9000,  0.2000],\n",
            "        [ 1.4000,  1.4000,  0.5000,  0.4000],\n",
            "        [-0.2000, -0.2000,  0.5000, -0.2000]], dtype=torch.float64)\n"
          ],
          "name": "stdout"
        }
      ]
    },
    {
      "cell_type": "markdown",
      "metadata": {
        "id": "RCon06PZitdL"
      },
      "source": [
        "## Boradcasting $(m \\times n) + (m \\times 1)$"
      ]
    },
    {
      "cell_type": "code",
      "metadata": {
        "colab": {
          "base_uri": "https://localhost:8080/"
        },
        "id": "iZGdgxE-QGHT",
        "outputId": "afc3e26f-3788-4406-8b4d-e92f011c329f"
      },
      "source": [
        "# B 행렬 Boradcasting 합\n",
        "B = np.random.randint(-9, 10, (5, 1)) / 10\n",
        "B = torch.tensor(B)\n",
        "\n",
        "print(A)\n",
        "print(B)\n",
        "print(A + B)"
      ],
      "execution_count": 6,
      "outputs": [
        {
          "output_type": "stream",
          "text": [
            "tensor([[ 0.6000, -0.3000,  0.3000,  0.6000],\n",
            "        [ 0.8000,  0.0000,  0.2000,  0.3000],\n",
            "        [ 0.7000, -0.4000,  0.7000,  0.0000],\n",
            "        [ 0.6000,  0.9000,  0.7000,  0.3000],\n",
            "        [-0.4000, -0.7000, -0.3000, -0.6000]], dtype=torch.float64)\n",
            "tensor([[-0.9000],\n",
            "        [ 0.3000],\n",
            "        [-0.4000],\n",
            "        [ 0.8000],\n",
            "        [-0.4000]], dtype=torch.float64)\n",
            "tensor([[-0.3000, -1.2000, -0.6000, -0.3000],\n",
            "        [ 1.1000,  0.3000,  0.5000,  0.6000],\n",
            "        [ 0.3000, -0.8000,  0.3000, -0.4000],\n",
            "        [ 1.4000,  1.7000,  1.5000,  1.1000],\n",
            "        [-0.8000, -1.1000, -0.7000, -1.0000]], dtype=torch.float64)\n"
          ],
          "name": "stdout"
        }
      ]
    },
    {
      "cell_type": "code",
      "metadata": {
        "colab": {
          "base_uri": "https://localhost:8080/"
        },
        "id": "LdWQp0AeZK8w",
        "outputId": "37ee2497-b62d-4957-d3b6-e1e16e0a71da"
      },
      "source": [
        "# B 행렬 열복사 후 합\n",
        "B1 = B.repeat(1, 4)\n",
        "\n",
        "print(B1)\n",
        "print(A + B1)"
      ],
      "execution_count": 7,
      "outputs": [
        {
          "output_type": "stream",
          "text": [
            "tensor([[-0.9000, -0.9000, -0.9000, -0.9000],\n",
            "        [ 0.3000,  0.3000,  0.3000,  0.3000],\n",
            "        [-0.4000, -0.4000, -0.4000, -0.4000],\n",
            "        [ 0.8000,  0.8000,  0.8000,  0.8000],\n",
            "        [-0.4000, -0.4000, -0.4000, -0.4000]], dtype=torch.float64)\n",
            "tensor([[-0.3000, -1.2000, -0.6000, -0.3000],\n",
            "        [ 1.1000,  0.3000,  0.5000,  0.6000],\n",
            "        [ 0.3000, -0.8000,  0.3000, -0.4000],\n",
            "        [ 1.4000,  1.7000,  1.5000,  1.1000],\n",
            "        [-0.8000, -1.1000, -0.7000, -1.0000]], dtype=torch.float64)\n"
          ],
          "name": "stdout"
        }
      ]
    },
    {
      "cell_type": "markdown",
      "metadata": {
        "id": "r4LdaCxVi6gP"
      },
      "source": [
        "## Boradcasting $(m \\times n) + (1 \\times n)$"
      ]
    },
    {
      "cell_type": "code",
      "metadata": {
        "colab": {
          "base_uri": "https://localhost:8080/"
        },
        "id": "cLLkKL1OmDbE",
        "outputId": "1297b56b-acf5-49c4-8621-b06fa8201aa8"
      },
      "source": [
        "# B 행렬 Boradcasting 합\n",
        "B = np.random.randint(-9, 10, (1, 4)) / 10\n",
        "B = torch.tensor(B)\n",
        "\n",
        "print(A)\n",
        "print(B)\n",
        "print(A + B)"
      ],
      "execution_count": 8,
      "outputs": [
        {
          "output_type": "stream",
          "text": [
            "tensor([[ 0.6000, -0.3000,  0.3000,  0.6000],\n",
            "        [ 0.8000,  0.0000,  0.2000,  0.3000],\n",
            "        [ 0.7000, -0.4000,  0.7000,  0.0000],\n",
            "        [ 0.6000,  0.9000,  0.7000,  0.3000],\n",
            "        [-0.4000, -0.7000, -0.3000, -0.6000]], dtype=torch.float64)\n",
            "tensor([[ 0.4000,  0.7000,  0.0000, -0.1000]], dtype=torch.float64)\n",
            "tensor([[ 1.0000,  0.4000,  0.3000,  0.5000],\n",
            "        [ 1.2000,  0.7000,  0.2000,  0.2000],\n",
            "        [ 1.1000,  0.3000,  0.7000, -0.1000],\n",
            "        [ 1.0000,  1.6000,  0.7000,  0.2000],\n",
            "        [ 0.0000,  0.0000, -0.3000, -0.7000]], dtype=torch.float64)\n"
          ],
          "name": "stdout"
        }
      ]
    },
    {
      "cell_type": "code",
      "metadata": {
        "colab": {
          "base_uri": "https://localhost:8080/"
        },
        "id": "BDtE8OM0jDKr",
        "outputId": "e96c8f17-218a-474e-e18c-a43cb070667b"
      },
      "source": [
        "# B 행렬 행복사 후 합\n",
        "B1 = B.repeat(5, 1)\n",
        "\n",
        "print(B1)\n",
        "print(A + B1)"
      ],
      "execution_count": 9,
      "outputs": [
        {
          "output_type": "stream",
          "text": [
            "tensor([[ 0.4000,  0.7000,  0.0000, -0.1000],\n",
            "        [ 0.4000,  0.7000,  0.0000, -0.1000],\n",
            "        [ 0.4000,  0.7000,  0.0000, -0.1000],\n",
            "        [ 0.4000,  0.7000,  0.0000, -0.1000],\n",
            "        [ 0.4000,  0.7000,  0.0000, -0.1000]], dtype=torch.float64)\n",
            "tensor([[ 1.0000,  0.4000,  0.3000,  0.5000],\n",
            "        [ 1.2000,  0.7000,  0.2000,  0.2000],\n",
            "        [ 1.1000,  0.3000,  0.7000, -0.1000],\n",
            "        [ 1.0000,  1.6000,  0.7000,  0.2000],\n",
            "        [ 0.0000,  0.0000, -0.3000, -0.7000]], dtype=torch.float64)\n"
          ],
          "name": "stdout"
        }
      ]
    },
    {
      "cell_type": "markdown",
      "metadata": {
        "id": "98CwYRFaqHXR"
      },
      "source": [
        "## Boradcasting $(m \\times n) + (1 \\times 1)$"
      ]
    },
    {
      "cell_type": "code",
      "metadata": {
        "colab": {
          "base_uri": "https://localhost:8080/"
        },
        "id": "OVwaCMeTqHXU",
        "outputId": "966c6932-698b-4e39-9f34-c3b184ca5220"
      },
      "source": [
        "# B 행렬 Boradcasting 합\n",
        "B = np.random.randint(-9, 10, (1, 1)) / 10\n",
        "B = torch.tensor(B)\n",
        "\n",
        "print(A)\n",
        "print(B)\n",
        "print(A + B)"
      ],
      "execution_count": 10,
      "outputs": [
        {
          "output_type": "stream",
          "text": [
            "tensor([[ 0.6000, -0.3000,  0.3000,  0.6000],\n",
            "        [ 0.8000,  0.0000,  0.2000,  0.3000],\n",
            "        [ 0.7000, -0.4000,  0.7000,  0.0000],\n",
            "        [ 0.6000,  0.9000,  0.7000,  0.3000],\n",
            "        [-0.4000, -0.7000, -0.3000, -0.6000]], dtype=torch.float64)\n",
            "tensor([[0.3000]], dtype=torch.float64)\n",
            "tensor([[ 0.9000,  0.0000,  0.6000,  0.9000],\n",
            "        [ 1.1000,  0.3000,  0.5000,  0.6000],\n",
            "        [ 1.0000, -0.1000,  1.0000,  0.3000],\n",
            "        [ 0.9000,  1.2000,  1.0000,  0.6000],\n",
            "        [-0.1000, -0.4000,  0.0000, -0.3000]], dtype=torch.float64)\n"
          ],
          "name": "stdout"
        }
      ]
    },
    {
      "cell_type": "code",
      "metadata": {
        "colab": {
          "base_uri": "https://localhost:8080/"
        },
        "id": "PvLXG8-kqHXW",
        "outputId": "cf4e749f-c4ad-47d5-9992-be3c1483d3ce"
      },
      "source": [
        "# B 행렬 행과 열 복사 후 합\n",
        "B1 = B.repeat(5, 4)\n",
        "\n",
        "print(B1)\n",
        "print(A + B1)"
      ],
      "execution_count": 11,
      "outputs": [
        {
          "output_type": "stream",
          "text": [
            "tensor([[0.3000, 0.3000, 0.3000, 0.3000],\n",
            "        [0.3000, 0.3000, 0.3000, 0.3000],\n",
            "        [0.3000, 0.3000, 0.3000, 0.3000],\n",
            "        [0.3000, 0.3000, 0.3000, 0.3000],\n",
            "        [0.3000, 0.3000, 0.3000, 0.3000]], dtype=torch.float64)\n",
            "tensor([[ 0.9000,  0.0000,  0.6000,  0.9000],\n",
            "        [ 1.1000,  0.3000,  0.5000,  0.6000],\n",
            "        [ 1.0000, -0.1000,  1.0000,  0.3000],\n",
            "        [ 0.9000,  1.2000,  1.0000,  0.6000],\n",
            "        [-0.1000, -0.4000,  0.0000, -0.3000]], dtype=torch.float64)\n"
          ],
          "name": "stdout"
        }
      ]
    },
    {
      "cell_type": "markdown",
      "metadata": {
        "id": "KOU4eIUztUce"
      },
      "source": [
        "# Element Wise Product"
      ]
    },
    {
      "cell_type": "code",
      "metadata": {
        "colab": {
          "base_uri": "https://localhost:8080/"
        },
        "id": "cPH81hmCtUco",
        "outputId": "cb5eefb4-51d1-4d1f-f09d-05b97e8963c6"
      },
      "source": [
        "# B 행렬 element wise product\n",
        "B = np.random.randint(-9, 10, (5, 4)) / 10\n",
        "B = torch.tensor(B)\n",
        "\n",
        "print(A)\n",
        "print(B)\n",
        "print(A * B)"
      ],
      "execution_count": 12,
      "outputs": [
        {
          "output_type": "stream",
          "text": [
            "tensor([[ 0.6000, -0.3000,  0.3000,  0.6000],\n",
            "        [ 0.8000,  0.0000,  0.2000,  0.3000],\n",
            "        [ 0.7000, -0.4000,  0.7000,  0.0000],\n",
            "        [ 0.6000,  0.9000,  0.7000,  0.3000],\n",
            "        [-0.4000, -0.7000, -0.3000, -0.6000]], dtype=torch.float64)\n",
            "tensor([[-0.3000,  0.3000,  0.6000,  0.8000],\n",
            "        [ 0.9000,  0.5000, -0.7000, -0.4000],\n",
            "        [ 0.4000, -0.3000, -0.2000, -0.5000],\n",
            "        [-0.6000, -0.4000,  0.5000,  0.6000],\n",
            "        [ 0.6000,  0.6000, -0.7000,  0.1000]], dtype=torch.float64)\n",
            "tensor([[-0.1800, -0.0900,  0.1800,  0.4800],\n",
            "        [ 0.7200,  0.0000, -0.1400, -0.1200],\n",
            "        [ 0.2800,  0.1200, -0.1400, -0.0000],\n",
            "        [-0.3600, -0.3600,  0.3500,  0.1800],\n",
            "        [-0.2400, -0.4200,  0.2100, -0.0600]], dtype=torch.float64)\n"
          ],
          "name": "stdout"
        }
      ]
    },
    {
      "cell_type": "markdown",
      "metadata": {
        "id": "bL3hGDaDtUcp"
      },
      "source": [
        "## Boradcasting $(m \\times n) + (m \\times 1)$"
      ]
    },
    {
      "cell_type": "code",
      "metadata": {
        "colab": {
          "base_uri": "https://localhost:8080/"
        },
        "id": "63Tw875FtUcp",
        "outputId": "c48484a3-3e8e-4b75-db65-195defba1c7a"
      },
      "source": [
        "# B 행렬 Boradcasting element wise product\n",
        "B = np.random.randint(-9, 10, (5, 1)) / 10\n",
        "B = torch.tensor(B)\n",
        "\n",
        "print(A)\n",
        "print(B)\n",
        "print(A * B)"
      ],
      "execution_count": 13,
      "outputs": [
        {
          "output_type": "stream",
          "text": [
            "tensor([[ 0.6000, -0.3000,  0.3000,  0.6000],\n",
            "        [ 0.8000,  0.0000,  0.2000,  0.3000],\n",
            "        [ 0.7000, -0.4000,  0.7000,  0.0000],\n",
            "        [ 0.6000,  0.9000,  0.7000,  0.3000],\n",
            "        [-0.4000, -0.7000, -0.3000, -0.6000]], dtype=torch.float64)\n",
            "tensor([[-0.5000],\n",
            "        [ 0.9000],\n",
            "        [-0.2000],\n",
            "        [ 0.2000],\n",
            "        [ 0.5000]], dtype=torch.float64)\n",
            "tensor([[-0.3000,  0.1500, -0.1500, -0.3000],\n",
            "        [ 0.7200,  0.0000,  0.1800,  0.2700],\n",
            "        [-0.1400,  0.0800, -0.1400, -0.0000],\n",
            "        [ 0.1200,  0.1800,  0.1400,  0.0600],\n",
            "        [-0.2000, -0.3500, -0.1500, -0.3000]], dtype=torch.float64)\n"
          ],
          "name": "stdout"
        }
      ]
    },
    {
      "cell_type": "code",
      "metadata": {
        "colab": {
          "base_uri": "https://localhost:8080/"
        },
        "id": "6CQYNaTFtUcp",
        "outputId": "5adb6528-e4b4-4db7-d8ee-fc87e5c123c9"
      },
      "source": [
        "# B 행렬 열복사 후 element wise product\n",
        "B1 = B.repeat(1, 4)\n",
        "\n",
        "print(B1)\n",
        "print(A * B1)"
      ],
      "execution_count": 14,
      "outputs": [
        {
          "output_type": "stream",
          "text": [
            "tensor([[-0.5000, -0.5000, -0.5000, -0.5000],\n",
            "        [ 0.9000,  0.9000,  0.9000,  0.9000],\n",
            "        [-0.2000, -0.2000, -0.2000, -0.2000],\n",
            "        [ 0.2000,  0.2000,  0.2000,  0.2000],\n",
            "        [ 0.5000,  0.5000,  0.5000,  0.5000]], dtype=torch.float64)\n",
            "tensor([[-0.3000,  0.1500, -0.1500, -0.3000],\n",
            "        [ 0.7200,  0.0000,  0.1800,  0.2700],\n",
            "        [-0.1400,  0.0800, -0.1400, -0.0000],\n",
            "        [ 0.1200,  0.1800,  0.1400,  0.0600],\n",
            "        [-0.2000, -0.3500, -0.1500, -0.3000]], dtype=torch.float64)\n"
          ],
          "name": "stdout"
        }
      ]
    },
    {
      "cell_type": "markdown",
      "metadata": {
        "id": "0bNB6Vf4tUcp"
      },
      "source": [
        "## Boradcasting $(m \\times n) + (1 \\times n)$"
      ]
    },
    {
      "cell_type": "code",
      "metadata": {
        "colab": {
          "base_uri": "https://localhost:8080/"
        },
        "id": "HeYeFs7LtUcq",
        "outputId": "5d4ff3d2-90c2-49d7-db6a-7484c1be09b4"
      },
      "source": [
        "# B 행렬 Boradcasting element wise product\n",
        "B = np.random.randint(-9, 10, (1, 4)) / 10\n",
        "B = torch.tensor(B)\n",
        "\n",
        "print(A)\n",
        "print(B)\n",
        "print(A * B)"
      ],
      "execution_count": 15,
      "outputs": [
        {
          "output_type": "stream",
          "text": [
            "tensor([[ 0.6000, -0.3000,  0.3000,  0.6000],\n",
            "        [ 0.8000,  0.0000,  0.2000,  0.3000],\n",
            "        [ 0.7000, -0.4000,  0.7000,  0.0000],\n",
            "        [ 0.6000,  0.9000,  0.7000,  0.3000],\n",
            "        [-0.4000, -0.7000, -0.3000, -0.6000]], dtype=torch.float64)\n",
            "tensor([[ 0.9000,  0.0000, -0.9000, -0.7000]], dtype=torch.float64)\n",
            "tensor([[ 0.5400, -0.0000, -0.2700, -0.4200],\n",
            "        [ 0.7200,  0.0000, -0.1800, -0.2100],\n",
            "        [ 0.6300, -0.0000, -0.6300, -0.0000],\n",
            "        [ 0.5400,  0.0000, -0.6300, -0.2100],\n",
            "        [-0.3600, -0.0000,  0.2700,  0.4200]], dtype=torch.float64)\n"
          ],
          "name": "stdout"
        }
      ]
    },
    {
      "cell_type": "code",
      "metadata": {
        "colab": {
          "base_uri": "https://localhost:8080/"
        },
        "id": "OYiRUDkbtUcq",
        "outputId": "d8aadb07-c5f7-4810-a256-cbf54dff9a78"
      },
      "source": [
        "# B 행렬 행복사 후 element wise product\n",
        "B1 = B.repeat(5, 1)\n",
        "\n",
        "print(B1)\n",
        "print(A * B1)"
      ],
      "execution_count": 16,
      "outputs": [
        {
          "output_type": "stream",
          "text": [
            "tensor([[ 0.9000,  0.0000, -0.9000, -0.7000],\n",
            "        [ 0.9000,  0.0000, -0.9000, -0.7000],\n",
            "        [ 0.9000,  0.0000, -0.9000, -0.7000],\n",
            "        [ 0.9000,  0.0000, -0.9000, -0.7000],\n",
            "        [ 0.9000,  0.0000, -0.9000, -0.7000]], dtype=torch.float64)\n",
            "tensor([[ 0.5400, -0.0000, -0.2700, -0.4200],\n",
            "        [ 0.7200,  0.0000, -0.1800, -0.2100],\n",
            "        [ 0.6300, -0.0000, -0.6300, -0.0000],\n",
            "        [ 0.5400,  0.0000, -0.6300, -0.2100],\n",
            "        [-0.3600, -0.0000,  0.2700,  0.4200]], dtype=torch.float64)\n"
          ],
          "name": "stdout"
        }
      ]
    },
    {
      "cell_type": "markdown",
      "metadata": {
        "id": "E_VoOCpWtUcq"
      },
      "source": [
        "## Boradcasting $(m \\times n) + (1 \\times 1)$"
      ]
    },
    {
      "cell_type": "code",
      "metadata": {
        "colab": {
          "base_uri": "https://localhost:8080/"
        },
        "id": "jUTFl9bctUcq",
        "outputId": "baeb6ff0-ac43-4ddf-d239-03c71d2f753d"
      },
      "source": [
        "# B 행렬 Boradcasting element wise product\n",
        "B = np.random.randint(-9, 10, (1, 1)) / 10\n",
        "B = torch.tensor(B)\n",
        "\n",
        "print(A)\n",
        "print(B)\n",
        "print(A * B)"
      ],
      "execution_count": 17,
      "outputs": [
        {
          "output_type": "stream",
          "text": [
            "tensor([[ 0.6000, -0.3000,  0.3000,  0.6000],\n",
            "        [ 0.8000,  0.0000,  0.2000,  0.3000],\n",
            "        [ 0.7000, -0.4000,  0.7000,  0.0000],\n",
            "        [ 0.6000,  0.9000,  0.7000,  0.3000],\n",
            "        [-0.4000, -0.7000, -0.3000, -0.6000]], dtype=torch.float64)\n",
            "tensor([[-0.8000]], dtype=torch.float64)\n",
            "tensor([[-0.4800,  0.2400, -0.2400, -0.4800],\n",
            "        [-0.6400, -0.0000, -0.1600, -0.2400],\n",
            "        [-0.5600,  0.3200, -0.5600, -0.0000],\n",
            "        [-0.4800, -0.7200, -0.5600, -0.2400],\n",
            "        [ 0.3200,  0.5600,  0.2400,  0.4800]], dtype=torch.float64)\n"
          ],
          "name": "stdout"
        }
      ]
    },
    {
      "cell_type": "code",
      "metadata": {
        "colab": {
          "base_uri": "https://localhost:8080/"
        },
        "id": "90tat8FbtUcr",
        "outputId": "f15cea6b-b086-4557-cbfe-1aad76c4a7a9"
      },
      "source": [
        "# B 행렬 행과 열 복사 후 합\n",
        "B1 = B.repeat(5, 4)\n",
        "\n",
        "print(B1)\n",
        "print(A + B1)"
      ],
      "execution_count": 18,
      "outputs": [
        {
          "output_type": "stream",
          "text": [
            "tensor([[-0.8000, -0.8000, -0.8000, -0.8000],\n",
            "        [-0.8000, -0.8000, -0.8000, -0.8000],\n",
            "        [-0.8000, -0.8000, -0.8000, -0.8000],\n",
            "        [-0.8000, -0.8000, -0.8000, -0.8000],\n",
            "        [-0.8000, -0.8000, -0.8000, -0.8000]], dtype=torch.float64)\n",
            "tensor([[-0.2000, -1.1000, -0.5000, -0.2000],\n",
            "        [ 0.0000, -0.8000, -0.6000, -0.5000],\n",
            "        [-0.1000, -1.2000, -0.1000, -0.8000],\n",
            "        [-0.2000,  0.1000, -0.1000, -0.5000],\n",
            "        [-1.2000, -1.5000, -1.1000, -1.4000]], dtype=torch.float64)\n"
          ],
          "name": "stdout"
        }
      ]
    },
    {
      "cell_type": "markdown",
      "metadata": {
        "id": "otdIXn2v8BYE"
      },
      "source": [
        "# Matrix Multiplication"
      ]
    },
    {
      "cell_type": "code",
      "metadata": {
        "colab": {
          "base_uri": "https://localhost:8080/"
        },
        "id": "F8p95e3F8BYJ",
        "outputId": "ef7a41d2-22db-435c-b69b-b742de032536"
      },
      "source": [
        "# B 행렬 matrix multiplication\n",
        "B = np.random.randint(-9, 10, (4, 3)) / 10\n",
        "B = torch.tensor(B)\n",
        "\n",
        "print(A)\n",
        "print(B)\n",
        "print(torch.matmul(A, B))"
      ],
      "execution_count": 19,
      "outputs": [
        {
          "output_type": "stream",
          "text": [
            "tensor([[ 0.6000, -0.3000,  0.3000,  0.6000],\n",
            "        [ 0.8000,  0.0000,  0.2000,  0.3000],\n",
            "        [ 0.7000, -0.4000,  0.7000,  0.0000],\n",
            "        [ 0.6000,  0.9000,  0.7000,  0.3000],\n",
            "        [-0.4000, -0.7000, -0.3000, -0.6000]], dtype=torch.float64)\n",
            "tensor([[ 0.9000,  0.8000, -0.2000],\n",
            "        [-0.5000, -0.2000,  0.8000],\n",
            "        [-0.9000,  0.0000,  0.9000],\n",
            "        [ 0.0000, -0.8000,  0.5000]], dtype=torch.float64)\n",
            "tensor([[ 0.4200,  0.0600,  0.2100],\n",
            "        [ 0.5400,  0.4000,  0.1700],\n",
            "        [ 0.2000,  0.6400,  0.1700],\n",
            "        [-0.5400,  0.0600,  1.3800],\n",
            "        [ 0.2600,  0.3000, -1.0500]], dtype=torch.float64)\n"
          ],
          "name": "stdout"
        }
      ]
    },
    {
      "cell_type": "code",
      "metadata": {
        "colab": {
          "base_uri": "https://localhost:8080/"
        },
        "id": "WaKFndXj9_DT",
        "outputId": "c1251ec5-694b-45df-acf7-7054c9b41bba"
      },
      "source": [
        "# 직접계산\n",
        "result = torch.zeros(A.size(0), B.size(-1))\n",
        "for row in range(A.size(0)):\n",
        "    for col in range(B.size(-1)):\n",
        "        result[row][col] = torch.dot(A[row], B[:, col])\n",
        "\n",
        "print(result)"
      ],
      "execution_count": 20,
      "outputs": [
        {
          "output_type": "stream",
          "text": [
            "tensor([[ 0.4200,  0.0600,  0.2100],\n",
            "        [ 0.5400,  0.4000,  0.1700],\n",
            "        [ 0.2000,  0.6400,  0.1700],\n",
            "        [-0.5400,  0.0600,  1.3800],\n",
            "        [ 0.2600,  0.3000, -1.0500]])\n"
          ],
          "name": "stdout"
        }
      ]
    },
    {
      "cell_type": "markdown",
      "metadata": {
        "id": "Vayb1bc-qStn"
      },
      "source": [
        "# Dot-product"
      ]
    },
    {
      "cell_type": "code",
      "metadata": {
        "colab": {
          "base_uri": "https://localhost:8080/"
        },
        "id": "rrVEUBsAqWM-",
        "outputId": "59435db5-36f0-4e83-9fe1-6ca418dc255d"
      },
      "source": [
        "# a, b 벡터 선언\n",
        "a = np.random.randint(-9, 10, (5,)) / 10\n",
        "a = torch.tensor(a)\n",
        "\n",
        "b = np.random.randint(-9, 10, (5,)) / 10\n",
        "b = torch.tensor(b)\n",
        "\n",
        "print(a)\n",
        "print(b)"
      ],
      "execution_count": 26,
      "outputs": [
        {
          "output_type": "stream",
          "text": [
            "tensor([ 0.4000,  0.2000,  0.6000,  0.7000, -0.9000], dtype=torch.float64)\n",
            "tensor([ 0.8000, -0.9000,  0.8000,  0.0000, -0.6000], dtype=torch.float64)\n"
          ],
          "name": "stdout"
        }
      ]
    },
    {
      "cell_type": "code",
      "metadata": {
        "colab": {
          "base_uri": "https://localhost:8080/"
        },
        "id": "n-qBELi-qlBM",
        "outputId": "5e4a6244-b3b6-44f4-80aa-7f73f864a652"
      },
      "source": [
        "# dot-product\n",
        "print(torch.dot(a, b))"
      ],
      "execution_count": 30,
      "outputs": [
        {
          "output_type": "stream",
          "text": [
            "tensor(1.1600, dtype=torch.float64)\n"
          ],
          "name": "stdout"
        }
      ]
    },
    {
      "cell_type": "code",
      "metadata": {
        "colab": {
          "base_uri": "https://localhost:8080/"
        },
        "id": "hNFFVK27q8gN",
        "outputId": "b3b99615-06b9-4445-91fb-75f1386a200f"
      },
      "source": [
        "# element wise product and sum\n",
        "c = a * b\n",
        "\n",
        "print(c)\n",
        "print(torch.sum(c))"
      ],
      "execution_count": 33,
      "outputs": [
        {
          "output_type": "stream",
          "text": [
            "tensor([ 0.3200, -0.1800,  0.4800,  0.0000,  0.5400], dtype=torch.float64)\n",
            "tensor(1.1600, dtype=torch.float64)\n"
          ],
          "name": "stdout"
        }
      ]
    }
  ]
}