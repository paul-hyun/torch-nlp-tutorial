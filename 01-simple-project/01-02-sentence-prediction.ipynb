{
  "nbformat": 4,
  "nbformat_minor": 0,
  "metadata": {
    "colab": {
      "name": "01-02-sentence-prediction.ipynb",
      "provenance": [],
      "collapsed_sections": [
        "b_8Ao1VU2WMv",
        "ra_z67DBQprt",
        "qgDGlbSNQsll",
        "TXtlf7-wnQRR",
        "Ax2QQK0kBvW9",
        "cFt1yULNKGIh"
      ],
      "toc_visible": true
    },
    "kernelspec": {
      "name": "python3",
      "display_name": "Python 3"
    }
  },
  "cells": [
    {
      "cell_type": "markdown",
      "metadata": {
        "id": "cxsyY8pZLzc3"
      },
      "source": [
        "# Env"
      ]
    },
    {
      "cell_type": "code",
      "metadata": {
        "id": "Smf88lfWLrtG"
      },
      "source": [
        "import easydict\n",
        "import random\n",
        "\n",
        "import matplotlib.pyplot as plt\n",
        "import numpy as np\n",
        "import torch"
      ],
      "execution_count": 4,
      "outputs": []
    },
    {
      "cell_type": "code",
      "metadata": {
        "colab": {
          "base_uri": "https://localhost:8080/"
        },
        "id": "ITwgwofw5mfH",
        "outputId": "b553ce60-8568-4d4e-ac1d-e676b484c5cf"
      },
      "source": [
        "# 학습환경 설정\n",
        "args = easydict.EasyDict({\n",
        "    # random seed value\n",
        "    \"seed\": 1234,\n",
        "    # number of epoch\n",
        "    \"n_epoch\": 200,\n",
        "    # number of batch\n",
        "    \"n_batch\": 2,\n",
        "    # learning rate\n",
        "    \"lr\": 0.001,\n",
        "    # weights 저장 위치\n",
        "    \"save_path\": \"01-02-sentence-prediction.pth\",\n",
        "    # CPU 또는 GPU 사용여부 결정\n",
        "    \"device\": torch.device(\"cuda\" if torch.cuda.is_available() else \"cpu\")\n",
        "})\n",
        "\n",
        "print(args)"
      ],
      "execution_count": 5,
      "outputs": [
        {
          "output_type": "stream",
          "text": [
            "{'seed': 1234, 'n_epoch': 200, 'n_batch': 2, 'lr': 0.001, 'save_path': '01-02-sentence-prediction.pth', 'device': device(type='cpu')}\n"
          ],
          "name": "stdout"
        }
      ]
    },
    {
      "cell_type": "code",
      "metadata": {
        "id": "WT-r7T0-Lx3k"
      },
      "source": [
        "# random seed 설정\n",
        "random.seed(args.seed)\n",
        "np.random.seed(args.seed)\n",
        "torch.manual_seed(args.seed)\n",
        "torch.cuda.manual_seed_all(args.seed)"
      ],
      "execution_count": 6,
      "outputs": []
    },
    {
      "cell_type": "markdown",
      "metadata": {
        "id": "C9kQ6BLLMJ1F"
      },
      "source": [
        "# Data"
      ]
    },
    {
      "cell_type": "code",
      "metadata": {
        "id": "8ThvTm6pL695"
      },
      "source": [
        "# 입력 문장\n",
        "raw_inputs = [\n",
        "    \"나는 학생 입니다\",\n",
        "    \"나는 좋은 선생님 입니다\",\n",
        "    \"당신은 매우 좋은 선생님 입니다\"\n",
        "]"
      ],
      "execution_count": 7,
      "outputs": []
    },
    {
      "cell_type": "code",
      "metadata": {
        "id": "nYVMMUbGMN2j"
      },
      "source": [
        "# 정답: 학생(1), 기타(0)\n",
        "raw_labels = [1, 0, 0]"
      ],
      "execution_count": 8,
      "outputs": []
    },
    {
      "cell_type": "markdown",
      "metadata": {
        "id": "oSfkK0THQNfR"
      },
      "source": [
        "# Vocabulary"
      ]
    },
    {
      "cell_type": "code",
      "metadata": {
        "colab": {
          "base_uri": "https://localhost:8080/"
        },
        "id": "tuBTi4UIQMvi",
        "outputId": "d3e49e56-b30e-4f12-c08c-8005187a7979"
      },
      "source": [
        "# 문장을 띄어쓰기단위로 분할\n",
        "words = []\n",
        "for s in raw_inputs:\n",
        "    words.extend(s.split())\n",
        "\n",
        "print(words)"
      ],
      "execution_count": 9,
      "outputs": [
        {
          "output_type": "stream",
          "text": [
            "['나는', '학생', '입니다', '나는', '좋은', '선생님', '입니다', '당신은', '매우', '좋은', '선생님', '입니다']\n"
          ],
          "name": "stdout"
        }
      ]
    },
    {
      "cell_type": "code",
      "metadata": {
        "colab": {
          "base_uri": "https://localhost:8080/"
        },
        "id": "yBUR7JJNMYpV",
        "outputId": "7f35ac6c-60b8-4d1a-8d15-c196032e4fcd"
      },
      "source": [
        "# 중복단어 제거\n",
        "words = list(dict.fromkeys(words))\n",
        "\n",
        "print(words)"
      ],
      "execution_count": 10,
      "outputs": [
        {
          "output_type": "stream",
          "text": [
            "['나는', '학생', '입니다', '좋은', '선생님', '당신은', '매우']\n"
          ],
          "name": "stdout"
        }
      ]
    },
    {
      "cell_type": "code",
      "metadata": {
        "colab": {
          "base_uri": "https://localhost:8080/"
        },
        "id": "irEX0bzLRstR",
        "outputId": "edf6ec53-6bbf-49c3-c03a-a73fa24c4fb1"
      },
      "source": [
        "# 각 단어별 일련번호\n",
        "word_to_id = {\"[PAD]\": 0, \"[UNK]\": 1}\n",
        "for w in words:\n",
        "    word_to_id[w] = len(word_to_id)\n",
        "\n",
        "print(word_to_id)"
      ],
      "execution_count": 11,
      "outputs": [
        {
          "output_type": "stream",
          "text": [
            "{'[PAD]': 0, '[UNK]': 1, '나는': 2, '학생': 3, '입니다': 4, '좋은': 5, '선생님': 6, '당신은': 7, '매우': 8}\n"
          ],
          "name": "stdout"
        }
      ]
    },
    {
      "cell_type": "code",
      "metadata": {
        "colab": {
          "base_uri": "https://localhost:8080/"
        },
        "id": "vIaQRilvSv3f",
        "outputId": "63f93692-0d16-424d-ffc6-3ead73d20dd2"
      },
      "source": [
        "# 각 번호별 단어\n",
        "id_to_word = {i: w for w, i in word_to_id.items()}\n",
        "\n",
        "print(id_to_word)"
      ],
      "execution_count": 12,
      "outputs": [
        {
          "output_type": "stream",
          "text": [
            "{0: '[PAD]', 1: '[UNK]', 2: '나는', 3: '학생', 4: '입니다', 5: '좋은', 6: '선생님', 7: '당신은', 8: '매우'}\n"
          ],
          "name": "stdout"
        }
      ]
    },
    {
      "cell_type": "markdown",
      "metadata": {
        "id": "tlIHyJcDbapo"
      },
      "source": [
        "# 학습 및 평가용 데이터 생성"
      ]
    },
    {
      "cell_type": "code",
      "metadata": {
        "colab": {
          "base_uri": "https://localhost:8080/"
        },
        "id": "SvwJVpvkUhHe",
        "outputId": "b6e39d26-88a5-4f02-be51-1533d2812837"
      },
      "source": [
        "# 입력 데이터\n",
        "inputs = []\n",
        "for s in raw_inputs:\n",
        "    inputs.append([word_to_id[w] for w in s.split()])\n",
        "    \n",
        "print(inputs)"
      ],
      "execution_count": 13,
      "outputs": [
        {
          "output_type": "stream",
          "text": [
            "[[2, 3, 4], [2, 5, 6, 4], [7, 8, 5, 6, 4]]\n"
          ],
          "name": "stdout"
        }
      ]
    },
    {
      "cell_type": "code",
      "metadata": {
        "colab": {
          "base_uri": "https://localhost:8080/"
        },
        "id": "ZVDs0eMBbd91",
        "outputId": "80dcdaca-50f1-40a7-d00a-d255106f1954"
      },
      "source": [
        "# 정답 데이터\n",
        "labels = raw_labels\n",
        "\n",
        "print(labels)"
      ],
      "execution_count": 14,
      "outputs": [
        {
          "output_type": "stream",
          "text": [
            "[1, 0, 0]\n"
          ],
          "name": "stdout"
        }
      ]
    },
    {
      "cell_type": "code",
      "metadata": {
        "id": "kAs77Y2McdLs"
      },
      "source": [
        "class SimpleDataSet(torch.utils.data.Dataset):\n",
        "    \"\"\" 데이터셋 클래스 \"\"\"\n",
        "\n",
        "    def __init__(self, inputs, labels):\n",
        "        \"\"\"\n",
        "        생성자\n",
        "        :param inputs: 입력\n",
        "        :param labels: 정답\n",
        "        \"\"\"\n",
        "        self.inputs = inputs\n",
        "        self.labels = labels\n",
        "\n",
        "    def __len__(self):\n",
        "        \"\"\" 데이터셋 길이 \"\"\"\n",
        "        assert len(self.inputs) == len(self.labels)\n",
        "        return len(self.labels)\n",
        "\n",
        "    def __getitem__(self, index):\n",
        "        \"\"\"\n",
        "        데이터 한 개 조회\n",
        "        :param index: 데이터 위치\n",
        "        \"\"\"\n",
        "        return (\n",
        "            torch.tensor(self.inputs[index]),\n",
        "            torch.tensor(self.labels[index]),\n",
        "        )\n",
        "\n",
        "    def collate_fn(self, batch):\n",
        "        \"\"\"\n",
        "        batch단위로 데이터 처리\n",
        "        :param batch: batch 단위 데이터\n",
        "        \"\"\"\n",
        "        inputs, labels = list(zip(*batch))\n",
        "\n",
        "        inputs = torch.nn.utils.rnn.pad_sequence(inputs, batch_first=True, padding_value=0)\n",
        "        labels = torch.stack(labels)\n",
        "\n",
        "        batch = [\n",
        "            inputs,\n",
        "            labels,\n",
        "        ]\n",
        "\n",
        "        return batch"
      ],
      "execution_count": 15,
      "outputs": []
    },
    {
      "cell_type": "code",
      "metadata": {
        "colab": {
          "base_uri": "https://localhost:8080/"
        },
        "id": "ZMeQxMqKc1vW",
        "outputId": "884760eb-eaba-499f-a25a-5516c5ede3bd"
      },
      "source": [
        "# dataset\n",
        "dataset = SimpleDataSet(inputs, labels)\n",
        "\n",
        "print(len(dataset))"
      ],
      "execution_count": 16,
      "outputs": [
        {
          "output_type": "stream",
          "text": [
            "3\n"
          ],
          "name": "stdout"
        }
      ]
    },
    {
      "cell_type": "code",
      "metadata": {
        "id": "yoGD3Q4PgVPr"
      },
      "source": [
        "# random sample data\n",
        "sampler = torch.utils.data.RandomSampler(dataset)"
      ],
      "execution_count": 17,
      "outputs": []
    },
    {
      "cell_type": "code",
      "metadata": {
        "id": "kCtpY8APhSpr"
      },
      "source": [
        "# train loader\n",
        "train_loader = torch.utils.data.DataLoader(dataset, batch_size=args.n_batch, sampler=sampler, collate_fn=dataset.collate_fn)"
      ],
      "execution_count": 18,
      "outputs": []
    },
    {
      "cell_type": "code",
      "metadata": {
        "id": "w2cgFJM5jOUi"
      },
      "source": [
        "# dataset\n",
        "dataset = SimpleDataSet(inputs, labels)\n",
        "# valid loader\n",
        "valid_loader = torch.utils.data.DataLoader(dataset, batch_size=args.n_batch, sampler=None, collate_fn=dataset.collate_fn)"
      ],
      "execution_count": 19,
      "outputs": []
    },
    {
      "cell_type": "code",
      "metadata": {
        "id": "KOeVClp8jXnX"
      },
      "source": [
        "# dataset\n",
        "dataset = SimpleDataSet(inputs, labels)\n",
        "# test loader\n",
        "test_loader = torch.utils.data.DataLoader(dataset, batch_size=args.n_batch, sampler=None, collate_fn=dataset.collate_fn)"
      ],
      "execution_count": 20,
      "outputs": []
    },
    {
      "cell_type": "markdown",
      "metadata": {
        "id": "b_8Ao1VU2WMv"
      },
      "source": [
        "# 모델링"
      ]
    },
    {
      "cell_type": "markdown",
      "metadata": {
        "id": "ra_z67DBQprt"
      },
      "source": [
        "## Tutorial"
      ]
    },
    {
      "cell_type": "code",
      "metadata": {
        "colab": {
          "base_uri": "https://localhost:8080/"
        },
        "id": "6SOnjwnM-EQY",
        "outputId": "71638a03-00bb-476b-d0d1-f63a17197e40"
      },
      "source": [
        "# model tutorial 입력\n",
        "t_inputs = torch.tensor(inputs[:1])\n",
        "t_labels = torch.tensor(labels[:1])\n",
        "\n",
        "print(t_inputs, t_labels)"
      ],
      "execution_count": 21,
      "outputs": [
        {
          "output_type": "stream",
          "text": [
            "tensor([[2, 3, 4]]) tensor([1])\n"
          ],
          "name": "stdout"
        }
      ]
    },
    {
      "cell_type": "code",
      "metadata": {
        "colab": {
          "base_uri": "https://localhost:8080/"
        },
        "id": "MBSkUawK92qH",
        "outputId": "e77fa92c-3606-4659-ee44-e36be354d99a"
      },
      "source": [
        "# 단어 일련번호를 단어 벡터로 변환\n",
        "embed = torch.nn.Embedding(len(word_to_id), 4)\n",
        "hidden = embed(t_inputs)\n",
        "\n",
        "print(hidden.shape, hidden)"
      ],
      "execution_count": 22,
      "outputs": [
        {
          "output_type": "stream",
          "text": [
            "torch.Size([1, 3, 4]) tensor([[[-0.2153,  0.8840, -0.7584, -0.3689],\n",
            "         [-0.3424, -1.4020,  0.3206, -1.0219],\n",
            "         [ 0.7988, -0.0923, -0.7049, -1.6024]]], grad_fn=<EmbeddingBackward>)\n"
          ],
          "name": "stdout"
        }
      ]
    },
    {
      "cell_type": "code",
      "metadata": {
        "id": "NxlPNNlh_n5Z"
      },
      "source": [
        "# RNN, CNN, Attention 등 다양한 NN 실행"
      ],
      "execution_count": 23,
      "outputs": []
    },
    {
      "cell_type": "code",
      "metadata": {
        "colab": {
          "base_uri": "https://localhost:8080/"
        },
        "id": "YagHBUsYLnIL",
        "outputId": "310cf828-9bfe-4182-af97-7a444f8a5588"
      },
      "source": [
        "# 단어를 특징 중 최대값을 문장의 특징으로 사용\n",
        "hidden, _ = torch.max(hidden, dim=1)\n",
        "\n",
        "print(hidden.shape, hidden)"
      ],
      "execution_count": 24,
      "outputs": [
        {
          "output_type": "stream",
          "text": [
            "torch.Size([1, 4]) tensor([[ 0.7988,  0.8840,  0.3206, -0.3689]], grad_fn=<MaxBackward0>)\n"
          ],
          "name": "stdout"
        }
      ]
    },
    {
      "cell_type": "code",
      "metadata": {
        "colab": {
          "base_uri": "https://localhost:8080/"
        },
        "id": "p0P6VNAY_2WD",
        "outputId": "ca4aa694-b58f-4359-ef6b-320b245fea75"
      },
      "source": [
        "# 문장 학생(1) 또는 기타(0) 예측\n",
        "linear = torch.nn.Linear(4, 2)\n",
        "logits = linear(hidden)\n",
        "\n",
        "print(logits.shape, logits)"
      ],
      "execution_count": 27,
      "outputs": [
        {
          "output_type": "stream",
          "text": [
            "torch.Size([1, 2]) tensor([[-0.3306, -0.0778]], grad_fn=<AddmmBackward>)\n"
          ],
          "name": "stdout"
        }
      ]
    },
    {
      "cell_type": "code",
      "metadata": {
        "colab": {
          "base_uri": "https://localhost:8080/"
        },
        "id": "z5NjboACNK2K",
        "outputId": "325268d7-3729-49ac-c060-e6cca059a338"
      },
      "source": [
        "# CrossEntropy loss 계산\n",
        "loss_fn = torch.nn.CrossEntropyLoss()\n",
        "loss = loss_fn(logits.view(-1, logits.size(-1)), t_labels.view(-1))\n",
        "\n",
        "print(loss)"
      ],
      "execution_count": 28,
      "outputs": [
        {
          "output_type": "stream",
          "text": [
            "tensor(0.5747, grad_fn=<NllLossBackward>)\n"
          ],
          "name": "stdout"
        }
      ]
    },
    {
      "cell_type": "markdown",
      "metadata": {
        "id": "qgDGlbSNQsll"
      },
      "source": [
        "## Class"
      ]
    },
    {
      "cell_type": "code",
      "metadata": {
        "id": "5O7Y4MM8jaba"
      },
      "source": [
        "class SentencePrediction(torch.nn.Module):\n",
        "    \"\"\" 문장단위 예측 모델 \"\"\"\n",
        "\n",
        "    def __init__(self, n_vocab):\n",
        "        \"\"\"\n",
        "        생성자\n",
        "        :param n_vocab: number of vocab\n",
        "        \"\"\"\n",
        "        super().__init__()\n",
        "        self.embed = torch.nn.Embedding(n_vocab, 4)\n",
        "        self.linear = torch.nn.Linear(4, 2)\n",
        "\n",
        "    def forward(self, inputs):\n",
        "        \"\"\"\n",
        "        모델 실행\n",
        "        :param inputs: input data\n",
        "        \"\"\"\n",
        "        hidden = self.embed(inputs)\n",
        "        hidden, _ = torch.max(hidden, dim=1)\n",
        "        logits = self.linear(hidden)\n",
        "        return logits"
      ],
      "execution_count": 29,
      "outputs": []
    },
    {
      "cell_type": "code",
      "metadata": {
        "colab": {
          "base_uri": "https://localhost:8080/"
        },
        "id": "kZBt3X0w2XuJ",
        "outputId": "56862879-d495-4255-9bc1-6d33a59f800d"
      },
      "source": [
        "# 학습용 모델 생성\n",
        "model = SentencePrediction(len(word_to_id))\n",
        "model.to(args.device)\n",
        "\n",
        "print(model)"
      ],
      "execution_count": 30,
      "outputs": [
        {
          "output_type": "stream",
          "text": [
            "SentencePrediction(\n",
            "  (embed): Embedding(9, 4)\n",
            "  (linear): Linear(in_features=4, out_features=2, bias=True)\n",
            ")\n"
          ],
          "name": "stdout"
        }
      ]
    },
    {
      "cell_type": "markdown",
      "metadata": {
        "id": "TXtlf7-wnQRR"
      },
      "source": [
        "# 학습"
      ]
    },
    {
      "cell_type": "code",
      "metadata": {
        "id": "yp2CcBXr4hbJ"
      },
      "source": [
        "# loss & optimizer 생성\n",
        "loss_fn = torch.nn.CrossEntropyLoss()\n",
        "optimizer = torch.optim.Adam(model.parameters(), lr=args.lr)"
      ],
      "execution_count": 31,
      "outputs": []
    },
    {
      "cell_type": "code",
      "metadata": {
        "id": "AXocuxR64WDa"
      },
      "source": [
        "def accuracy_fn(logits, labels):\n",
        "    \"\"\"\n",
        "    model accuracy 측정\n",
        "    :param logits: 예측 값\n",
        "    :param labels: 정답\n",
        "    \"\"\"\n",
        "    # 값이 최대인 index 값\n",
        "    _, indices = logits.max(-1)\n",
        "    # label과 비교\n",
        "    matchs = torch.eq(indices, labels).cpu().numpy()\n",
        "    total = np.ones_like(matchs)\n",
        "    acc_val = np.sum(matchs) / max(1, np.sum(total))\n",
        "    return acc_val"
      ],
      "execution_count": 32,
      "outputs": []
    },
    {
      "cell_type": "code",
      "metadata": {
        "id": "A5KfZCq06fa0"
      },
      "source": [
        "def train_epoch(args, model, loader, loss_fn, optimizer):\n",
        "    \"\"\"\n",
        "    1 epoch 학습\n",
        "    :param args: 입력 arguments\n",
        "    :param model: 모델\n",
        "    :param loader: 데이터로더\n",
        "    :param loss_fn: loss 계산함수\n",
        "    :param optimizer: optimizer\n",
        "    \"\"\"\n",
        "    # model을 train 모드로 전환\n",
        "    model.train()\n",
        "    # loss 및 accuracy 저장\n",
        "    losses, access = [], []\n",
        "    # data loader에서 batch단위로 처리\n",
        "    for batch in loader:\n",
        "        # optimizer 초기화\n",
        "        optimizer.zero_grad()\n",
        "        # batch 입력값 처리 (CPU or GPU)\n",
        "        inputs, labels = map(lambda v: v.to(args.device), batch)\n",
        "        # 모델 실행\n",
        "        logits = model(inputs)\n",
        "        # loss 계산\n",
        "        loss = loss_fn(logits.view(-1, logits.size(-1)), labels.view(-1))\n",
        "        loss.backward()\n",
        "        # model weight 변경\n",
        "        optimizer.step()\n",
        "        # loss 저장\n",
        "        loss_val = loss.item()\n",
        "        losses.append(loss_val)\n",
        "        # accuracy 계산 및 저장\n",
        "        acc_val = accuracy_fn(logits, labels)\n",
        "        access.append(acc_val)\n",
        "\n",
        "    return np.mean(losses), np.mean(access)"
      ],
      "execution_count": 33,
      "outputs": []
    },
    {
      "cell_type": "code",
      "metadata": {
        "id": "c82uDrnP4Q4l"
      },
      "source": [
        "def eval_epoch(args, model, loader, loss_fn):\n",
        "    \"\"\"\n",
        "    1 epoch 평가\n",
        "    :param args: 입력 arguments\n",
        "    :param model: 모델\n",
        "    :param loader: 데이터로더\n",
        "    :param loss_fn: loss 계산함수\n",
        "    \"\"\"\n",
        "    # model을 eval 모드로 전환\n",
        "    model.eval()\n",
        "    # loss 및 accuracy 저장\n",
        "    losses, access = [], []\n",
        "    # 실행시에 gradint 계산 비활성화\n",
        "    with torch.no_grad():\n",
        "        for batch in loader:\n",
        "            # batch 입력값 처리 (CPU or GPU)\n",
        "            inputs, labels = map(lambda v: v.to(args.device), batch)\n",
        "            # 모델 실행\n",
        "            logits = model(inputs)\n",
        "            # loss 계산\n",
        "            loss = loss_fn(logits.view(-1, logits.size(-1)), labels.view(-1))\n",
        "            # loss 저장\n",
        "            loss_val = loss.item()\n",
        "            losses.append(loss_val)\n",
        "            # accuracy 계산 및 저장\n",
        "            acc_val = accuracy_fn(logits, labels)\n",
        "            access.append(acc_val)\n",
        "\n",
        "    return np.mean(losses), np.mean(access)"
      ],
      "execution_count": 34,
      "outputs": []
    },
    {
      "cell_type": "code",
      "metadata": {
        "id": "LOb_icmJ4maJ"
      },
      "source": [
        "# 학습 history\n",
        "history = {\"train_loss\": [], \"train_acc\": [], \"valid_loss\": [], \"valid_acc\": []}\n",
        "# 가장 좋은 acc 값\n",
        "best_acc = 0"
      ],
      "execution_count": 35,
      "outputs": []
    },
    {
      "cell_type": "code",
      "metadata": {
        "id": "JFRu8nkb4VQ1",
        "colab": {
          "base_uri": "https://localhost:8080/"
        },
        "outputId": "e43b587c-a948-48e7-d675-3537dd9c97ba"
      },
      "source": [
        "# 학습 및 평가\n",
        "for e in range(args.n_epoch):\n",
        "    train_loss, train_acc = train_epoch(args, model, train_loader, loss_fn, optimizer)\n",
        "    valid_loss, valid_acc = eval_epoch(args, model, valid_loader, loss_fn)\n",
        "    # 학습 history 저장\n",
        "    history[\"train_loss\"].append(train_loss)\n",
        "    history[\"train_acc\"].append(train_acc)\n",
        "    history[\"valid_loss\"].append(valid_loss)\n",
        "    history[\"valid_acc\"].append(valid_acc)\n",
        "    # 학습과정 출력\n",
        "    print(f\"eopch: {e + 1:3d}, train_loss: {train_loss:.5f}, train_acc: {train_acc: .5f}, valid_loss: {valid_loss:.5f}, valid_acc: {valid_acc:.5f}\")\n",
        "    # best weight 저장\n",
        "    if best_acc < valid_acc:\n",
        "        best_acc = valid_acc\n",
        "        # 저장\n",
        "        torch.save(\n",
        "            {\"state_dict\": model.state_dict(), \"valid_acc\": valid_acc},\n",
        "            args.save_path,\n",
        "        )\n",
        "        # 저장내용 출력\n",
        "        print(f\"  >> save weights: {args.save_path}\")"
      ],
      "execution_count": 36,
      "outputs": [
        {
          "output_type": "stream",
          "text": [
            "eopch:   1, train_loss: 1.61866, train_acc:  0.50000, valid_loss: 2.25263, valid_acc: 0.25000\n",
            "  >> save weights: 01-02-sentence-prediction.pth\n",
            "eopch:   2, train_loss: 1.60772, train_acc:  0.50000, valid_loss: 2.23814, valid_acc: 0.25000\n",
            "eopch:   3, train_loss: 1.59845, train_acc:  0.50000, valid_loss: 2.22424, valid_acc: 0.25000\n",
            "eopch:   4, train_loss: 1.58957, train_acc:  0.50000, valid_loss: 2.21062, valid_acc: 0.25000\n",
            "eopch:   5, train_loss: 2.20619, train_acc:  0.25000, valid_loss: 2.19669, valid_acc: 0.25000\n",
            "eopch:   6, train_loss: 1.57209, train_acc:  0.50000, valid_loss: 2.18149, valid_acc: 0.25000\n",
            "eopch:   7, train_loss: 1.56244, train_acc:  0.50000, valid_loss: 2.16687, valid_acc: 0.25000\n",
            "eopch:   8, train_loss: 2.17381, train_acc:  0.25000, valid_loss: 2.15234, valid_acc: 0.25000\n",
            "eopch:   9, train_loss: 2.15888, train_acc:  0.25000, valid_loss: 2.13662, valid_acc: 0.25000\n",
            "eopch:  10, train_loss: 2.13110, train_acc:  0.25000, valid_loss: 2.12002, valid_acc: 0.25000\n",
            "eopch:  11, train_loss: 2.11423, train_acc:  0.25000, valid_loss: 2.10275, valid_acc: 0.25000\n",
            "eopch:  12, train_loss: 1.51308, train_acc:  0.50000, valid_loss: 2.08531, valid_acc: 0.25000\n",
            "eopch:  13, train_loss: 2.07974, train_acc:  0.25000, valid_loss: 2.06866, valid_acc: 0.25000\n",
            "eopch:  14, train_loss: 2.06288, train_acc:  0.25000, valid_loss: 2.05147, valid_acc: 0.25000\n",
            "eopch:  15, train_loss: 1.48106, train_acc:  0.50000, valid_loss: 2.03412, valid_acc: 0.25000\n",
            "eopch:  16, train_loss: 2.04097, train_acc:  0.25000, valid_loss: 2.01760, valid_acc: 0.25000\n",
            "eopch:  17, train_loss: 2.01190, train_acc:  0.25000, valid_loss: 2.00062, valid_acc: 0.25000\n",
            "eopch:  18, train_loss: 2.00733, train_acc:  0.25000, valid_loss: 1.98327, valid_acc: 0.25000\n",
            "eopch:  19, train_loss: 1.98996, train_acc:  0.25000, valid_loss: 1.96569, valid_acc: 0.25000\n",
            "eopch:  20, train_loss: 1.42778, train_acc:  0.50000, valid_loss: 1.94814, valid_acc: 0.25000\n",
            "eopch:  21, train_loss: 1.94257, train_acc:  0.25000, valid_loss: 1.93155, valid_acc: 0.25000\n",
            "eopch:  22, train_loss: 1.93866, train_acc:  0.25000, valid_loss: 1.91462, valid_acc: 0.25000\n",
            "eopch:  23, train_loss: 1.90882, train_acc:  0.25000, valid_loss: 1.89746, valid_acc: 0.25000\n",
            "eopch:  24, train_loss: 1.90455, train_acc:  0.25000, valid_loss: 1.88011, valid_acc: 0.25000\n",
            "eopch:  25, train_loss: 1.88721, train_acc:  0.25000, valid_loss: 1.86266, valid_acc: 0.25000\n",
            "eopch:  26, train_loss: 1.36409, train_acc:  0.50000, valid_loss: 1.84532, valid_acc: 0.25000\n",
            "eopch:  27, train_loss: 1.85296, train_acc:  0.25000, valid_loss: 1.82905, valid_acc: 0.25000\n",
            "eopch:  28, train_loss: 1.83663, train_acc:  0.25000, valid_loss: 1.81254, valid_acc: 0.25000\n",
            "eopch:  29, train_loss: 1.33317, train_acc:  0.50000, valid_loss: 1.79600, valid_acc: 0.25000\n",
            "eopch:  30, train_loss: 1.80401, train_acc:  0.25000, valid_loss: 1.78044, valid_acc: 0.25000\n",
            "eopch:  31, train_loss: 1.78835, train_acc:  0.25000, valid_loss: 1.76456, valid_acc: 0.25000\n",
            "eopch:  32, train_loss: 1.75913, train_acc:  0.25000, valid_loss: 1.74846, valid_acc: 0.25000\n",
            "eopch:  33, train_loss: 1.74293, train_acc:  0.25000, valid_loss: 1.73216, valid_acc: 0.25000\n",
            "eopch:  34, train_loss: 1.72657, train_acc:  0.25000, valid_loss: 1.71572, valid_acc: 0.25000\n",
            "eopch:  35, train_loss: 1.27366, train_acc:  0.50000, valid_loss: 1.69933, valid_acc: 0.25000\n",
            "eopch:  36, train_loss: 1.26355, train_acc:  0.50000, valid_loss: 1.68412, valid_acc: 0.25000\n",
            "eopch:  37, train_loss: 1.67929, train_acc:  0.25000, valid_loss: 1.66976, valid_acc: 0.25000\n",
            "eopch:  38, train_loss: 1.67863, train_acc:  0.25000, valid_loss: 1.65497, valid_acc: 0.25000\n",
            "eopch:  39, train_loss: 1.23627, train_acc:  0.50000, valid_loss: 1.64000, valid_acc: 0.25000\n",
            "eopch:  40, train_loss: 1.64932, train_acc:  0.25000, valid_loss: 1.62590, valid_acc: 0.25000\n",
            "eopch:  41, train_loss: 1.62101, train_acc:  0.25000, valid_loss: 1.61142, valid_acc: 0.25000\n",
            "eopch:  42, train_loss: 1.62062, train_acc:  0.25000, valid_loss: 1.59662, valid_acc: 0.25000\n",
            "eopch:  43, train_loss: 1.59153, train_acc:  0.25000, valid_loss: 1.58162, valid_acc: 0.25000\n",
            "eopch:  44, train_loss: 1.59084, train_acc:  0.25000, valid_loss: 1.56645, valid_acc: 0.25000\n",
            "eopch:  45, train_loss: 1.18217, train_acc:  0.50000, valid_loss: 1.55133, valid_acc: 0.25000\n",
            "eopch:  46, train_loss: 1.17292, train_acc:  0.50000, valid_loss: 1.53731, valid_acc: 0.25000\n",
            "eopch:  47, train_loss: 1.53286, train_acc:  0.25000, valid_loss: 1.52405, valid_acc: 0.25000\n",
            "eopch:  48, train_loss: 1.53416, train_acc:  0.25000, valid_loss: 1.51038, valid_acc: 0.25000\n",
            "eopch:  49, train_loss: 1.50566, train_acc:  0.25000, valid_loss: 1.49645, valid_acc: 0.25000\n",
            "eopch:  50, train_loss: 1.49163, train_acc:  0.25000, valid_loss: 1.48228, valid_acc: 0.25000\n",
            "eopch:  51, train_loss: 1.47738, train_acc:  0.25000, valid_loss: 1.46794, valid_acc: 0.25000\n",
            "eopch:  52, train_loss: 1.12217, train_acc:  0.50000, valid_loss: 1.45358, valid_acc: 0.25000\n",
            "eopch:  53, train_loss: 1.44903, train_acc:  0.25000, valid_loss: 1.44017, valid_acc: 0.25000\n",
            "eopch:  54, train_loss: 1.43552, train_acc:  0.25000, valid_loss: 1.42654, valid_acc: 0.25000\n",
            "eopch:  55, train_loss: 1.42182, train_acc:  0.25000, valid_loss: 1.41273, valid_acc: 0.25000\n",
            "eopch:  56, train_loss: 1.08871, train_acc:  0.50000, valid_loss: 1.39889, valid_acc: 0.25000\n",
            "eopch:  57, train_loss: 1.41033, train_acc:  0.25000, valid_loss: 1.38600, valid_acc: 0.25000\n",
            "eopch:  58, train_loss: 1.38154, train_acc:  0.25000, valid_loss: 1.37289, valid_acc: 0.25000\n",
            "eopch:  59, train_loss: 1.06461, train_acc:  0.50000, valid_loss: 1.35967, valid_acc: 0.25000\n",
            "eopch:  60, train_loss: 1.05654, train_acc:  0.50000, valid_loss: 1.34740, valid_acc: 0.25000\n",
            "eopch:  61, train_loss: 1.34352, train_acc:  0.25000, valid_loss: 1.33584, valid_acc: 0.25000\n",
            "eopch:  62, train_loss: 1.04201, train_acc:  0.50000, valid_loss: 1.32393, valid_acc: 0.25000\n",
            "eopch:  63, train_loss: 1.33664, train_acc:  0.25000, valid_loss: 1.31266, valid_acc: 0.25000\n",
            "eopch:  64, train_loss: 1.02785, train_acc:  0.50000, valid_loss: 1.30108, valid_acc: 0.25000\n",
            "eopch:  65, train_loss: 1.31405, train_acc:  0.25000, valid_loss: 1.29013, valid_acc: 0.25000\n",
            "eopch:  66, train_loss: 1.28631, train_acc:  0.25000, valid_loss: 1.27875, valid_acc: 0.25000\n",
            "eopch:  67, train_loss: 1.29153, train_acc:  0.25000, valid_loss: 1.26702, valid_acc: 0.25000\n",
            "eopch:  68, train_loss: 1.26297, train_acc:  0.25000, valid_loss: 1.25506, valid_acc: 0.25000\n",
            "eopch:  69, train_loss: 1.26777, train_acc:  0.25000, valid_loss: 1.24295, valid_acc: 0.25000\n",
            "eopch:  70, train_loss: 1.23877, train_acc:  0.25000, valid_loss: 1.23074, valid_acc: 0.25000\n",
            "eopch:  71, train_loss: 1.22651, train_acc:  0.25000, valid_loss: 1.21843, valid_acc: 0.25000\n",
            "eopch:  72, train_loss: 1.23120, train_acc:  0.25000, valid_loss: 1.20608, valid_acc: 0.25000\n",
            "eopch:  73, train_loss: 1.21890, train_acc:  0.25000, valid_loss: 1.19380, valid_acc: 0.25000\n",
            "eopch:  74, train_loss: 1.20664, train_acc:  0.25000, valid_loss: 1.18155, valid_acc: 0.25000\n",
            "eopch:  75, train_loss: 1.17736, train_acc:  0.25000, valid_loss: 1.16937, valid_acc: 0.25000\n",
            "eopch:  76, train_loss: 0.94229, train_acc:  0.50000, valid_loss: 1.15730, valid_acc: 0.25000\n",
            "eopch:  77, train_loss: 1.15350, train_acc:  0.25000, valid_loss: 1.14617, valid_acc: 0.25000\n",
            "eopch:  78, train_loss: 0.92848, train_acc:  0.50000, valid_loss: 1.13501, valid_acc: 0.25000\n",
            "eopch:  79, train_loss: 0.92174, train_acc:  0.50000, valid_loss: 1.12467, valid_acc: 0.25000\n",
            "eopch:  80, train_loss: 1.12142, train_acc:  0.25000, valid_loss: 1.11496, valid_acc: 0.25000\n",
            "eopch:  81, train_loss: 1.12895, train_acc:  0.25000, valid_loss: 1.10496, valid_acc: 0.25000\n",
            "eopch:  82, train_loss: 1.11890, train_acc:  0.25000, valid_loss: 1.09474, valid_acc: 0.25000\n",
            "eopch:  83, train_loss: 1.10863, train_acc:  0.25000, valid_loss: 1.08436, valid_acc: 0.25000\n",
            "eopch:  84, train_loss: 1.09820, train_acc:  0.25000, valid_loss: 1.07390, valid_acc: 0.25000\n",
            "eopch:  85, train_loss: 0.88530, train_acc:  0.50000, valid_loss: 1.06346, valid_acc: 0.25000\n",
            "eopch:  86, train_loss: 0.87901, train_acc:  0.50000, valid_loss: 1.05382, valid_acc: 0.25000\n",
            "eopch:  87, train_loss: 1.06817, train_acc:  0.25000, valid_loss: 1.04481, valid_acc: 0.25000\n",
            "eopch:  88, train_loss: 1.05903, train_acc:  0.25000, valid_loss: 1.03552, valid_acc: 0.25000\n",
            "eopch:  89, train_loss: 0.86226, train_acc:  0.50000, valid_loss: 1.02608, valid_acc: 0.25000\n",
            "eopch:  90, train_loss: 1.02313, train_acc:  0.25000, valid_loss: 1.01729, valid_acc: 0.25000\n",
            "eopch:  91, train_loss: 0.85135, train_acc:  0.50000, valid_loss: 1.00827, valid_acc: 0.25000\n",
            "eopch:  92, train_loss: 1.00544, train_acc:  0.25000, valid_loss: 0.99979, valid_acc: 0.25000\n",
            "eopch:  93, train_loss: 0.84075, train_acc:  0.50000, valid_loss: 0.99105, valid_acc: 0.25000\n",
            "eopch:  94, train_loss: 0.83537, train_acc:  0.50000, valid_loss: 0.98292, valid_acc: 0.25000\n",
            "eopch:  95, train_loss: 0.83045, train_acc:  0.50000, valid_loss: 0.97529, valid_acc: 0.25000\n",
            "eopch:  96, train_loss: 0.99043, train_acc:  0.25000, valid_loss: 0.96796, valid_acc: 0.25000\n",
            "eopch:  97, train_loss: 0.98295, train_acc:  0.25000, valid_loss: 0.96020, valid_acc: 0.25000\n",
            "eopch:  98, train_loss: 0.97504, train_acc:  0.25000, valid_loss: 0.95210, valid_acc: 0.25000\n",
            "eopch:  99, train_loss: 0.96681, train_acc:  0.25000, valid_loss: 0.94379, valid_acc: 0.25000\n",
            "eopch: 100, train_loss: 0.80679, train_acc:  0.50000, valid_loss: 0.93537, valid_acc: 0.25000\n",
            "eopch: 101, train_loss: 0.95016, train_acc:  0.25000, valid_loss: 0.92748, valid_acc: 0.25000\n",
            "eopch: 102, train_loss: 0.92477, train_acc:  0.25000, valid_loss: 0.91938, valid_acc: 0.25000\n",
            "eopch: 103, train_loss: 0.79220, train_acc:  0.50000, valid_loss: 0.91116, valid_acc: 0.25000\n",
            "eopch: 104, train_loss: 0.92595, train_acc:  0.25000, valid_loss: 0.90350, valid_acc: 0.25000\n",
            "eopch: 105, train_loss: 0.91817, train_acc:  0.25000, valid_loss: 0.89564, valid_acc: 0.25000\n",
            "eopch: 106, train_loss: 0.89293, train_acc:  0.25000, valid_loss: 0.88763, valid_acc: 0.25000\n",
            "eopch: 107, train_loss: 0.90211, train_acc:  0.25000, valid_loss: 0.87952, valid_acc: 0.25000\n",
            "eopch: 108, train_loss: 0.87673, train_acc:  0.25000, valid_loss: 0.87137, valid_acc: 0.25000\n",
            "eopch: 109, train_loss: 0.76392, train_acc:  0.50000, valid_loss: 0.86320, valid_acc: 0.25000\n",
            "eopch: 110, train_loss: 0.86064, train_acc:  0.25000, valid_loss: 0.85569, valid_acc: 0.25000\n",
            "eopch: 111, train_loss: 0.87031, train_acc:  0.25000, valid_loss: 0.84806, valid_acc: 0.25000\n",
            "eopch: 112, train_loss: 0.86264, train_acc:  0.25000, valid_loss: 0.84036, valid_acc: 0.25000\n",
            "eopch: 113, train_loss: 0.85489, train_acc:  0.25000, valid_loss: 0.83261, valid_acc: 0.25000\n",
            "eopch: 114, train_loss: 0.84708, train_acc:  0.25000, valid_loss: 0.82486, valid_acc: 0.25000\n",
            "eopch: 115, train_loss: 0.83926, train_acc:  0.25000, valid_loss: 0.81720, valid_acc: 0.25000\n",
            "eopch: 116, train_loss: 0.81457, train_acc:  0.25000, valid_loss: 0.80957, valid_acc: 0.25000\n",
            "eopch: 117, train_loss: 0.82384, train_acc:  0.25000, valid_loss: 0.80194, valid_acc: 0.25000\n",
            "eopch: 118, train_loss: 0.81617, train_acc:  0.25000, valid_loss: 0.79436, valid_acc: 0.25000\n",
            "eopch: 119, train_loss: 0.79178, train_acc:  0.25000, valid_loss: 0.78685, valid_acc: 0.25000\n",
            "eopch: 120, train_loss: 0.80099, train_acc:  0.25000, valid_loss: 0.77945, valid_acc: 0.25000\n",
            "eopch: 121, train_loss: 0.71096, train_acc:  0.50000, valid_loss: 0.77215, valid_acc: 0.25000\n",
            "eopch: 122, train_loss: 0.70668, train_acc:  0.50000, valid_loss: 0.76552, valid_acc: 0.25000\n",
            "eopch: 123, train_loss: 0.78005, train_acc:  0.25000, valid_loss: 0.75941, valid_acc: 0.25000\n",
            "eopch: 124, train_loss: 0.75731, train_acc:  0.25000, valid_loss: 0.75316, valid_acc: 0.25000\n",
            "eopch: 125, train_loss: 0.69542, train_acc:  0.50000, valid_loss: 0.74684, valid_acc: 0.25000\n",
            "eopch: 126, train_loss: 0.76140, train_acc:  0.25000, valid_loss: 0.74100, valid_acc: 0.25000\n",
            "eopch: 127, train_loss: 0.68814, train_acc:  0.50000, valid_loss: 0.73509, valid_acc: 0.25000\n",
            "eopch: 128, train_loss: 0.68448, train_acc:  0.50000, valid_loss: 0.72957, valid_acc: 0.25000\n",
            "eopch: 129, train_loss: 0.72791, train_acc:  0.25000, valid_loss: 0.72442, valid_acc: 0.25000\n",
            "eopch: 130, train_loss: 0.72264, train_acc:  0.25000, valid_loss: 0.71904, valid_acc: 0.25000\n",
            "eopch: 131, train_loss: 0.67460, train_acc:  0.50000, valid_loss: 0.71350, valid_acc: 0.25000\n",
            "eopch: 132, train_loss: 0.67111, train_acc:  0.50000, valid_loss: 0.70832, valid_acc: 0.25000\n",
            "eopch: 133, train_loss: 0.70676, train_acc:  0.25000, valid_loss: 0.70350, valid_acc: 0.25000\n",
            "eopch: 134, train_loss: 0.70182, train_acc:  0.25000, valid_loss: 0.69844, valid_acc: 0.25000\n",
            "eopch: 135, train_loss: 0.66177, train_acc:  0.50000, valid_loss: 0.69320, valid_acc: 0.25000\n",
            "eopch: 136, train_loss: 0.65844, train_acc:  0.50000, valid_loss: 0.68829, valid_acc: 0.25000\n",
            "eopch: 137, train_loss: 0.68681, train_acc:  0.25000, valid_loss: 0.68364, valid_acc: 0.25000\n",
            "eopch: 138, train_loss: 0.65229, train_acc:  0.50000, valid_loss: 0.67885, valid_acc: 0.75000\n",
            "  >> save weights: 01-02-sentence-prediction.pth\n",
            "eopch: 139, train_loss: 0.67739, train_acc:  0.75000, valid_loss: 0.67429, valid_acc: 0.75000\n",
            "eopch: 140, train_loss: 0.64627, train_acc:  0.75000, valid_loss: 0.66952, valid_acc: 0.75000\n",
            "eopch: 141, train_loss: 0.66809, train_acc:  0.75000, valid_loss: 0.66507, valid_acc: 0.75000\n",
            "eopch: 142, train_loss: 0.66354, train_acc:  0.75000, valid_loss: 0.66038, valid_acc: 0.75000\n",
            "eopch: 143, train_loss: 0.63748, train_acc:  0.75000, valid_loss: 0.65553, valid_acc: 0.75000\n",
            "eopch: 144, train_loss: 0.65406, train_acc:  0.75000, valid_loss: 0.65103, valid_acc: 0.75000\n",
            "eopch: 145, train_loss: 0.64948, train_acc:  0.75000, valid_loss: 0.64634, valid_acc: 0.75000\n",
            "eopch: 146, train_loss: 0.64472, train_acc:  0.75000, valid_loss: 0.64153, valid_acc: 0.75000\n",
            "eopch: 147, train_loss: 0.62585, train_acc:  0.75000, valid_loss: 0.63665, valid_acc: 0.75000\n",
            "eopch: 148, train_loss: 0.63516, train_acc:  0.75000, valid_loss: 0.63213, valid_acc: 0.75000\n",
            "eopch: 149, train_loss: 0.62006, train_acc:  0.75000, valid_loss: 0.62752, valid_acc: 1.00000\n",
            "  >> save weights: 01-02-sentence-prediction.pth\n",
            "eopch: 150, train_loss: 0.61710, train_acc:  1.00000, valid_loss: 0.62321, valid_acc: 1.00000\n",
            "eopch: 151, train_loss: 0.62193, train_acc:  1.00000, valid_loss: 0.61924, valid_acc: 1.00000\n",
            "eopch: 152, train_loss: 0.61180, train_acc:  1.00000, valid_loss: 0.61508, valid_acc: 1.00000\n",
            "eopch: 153, train_loss: 0.60904, train_acc:  1.00000, valid_loss: 0.61115, valid_acc: 1.00000\n",
            "eopch: 154, train_loss: 0.62756, train_acc:  1.00000, valid_loss: 0.60737, valid_acc: 1.00000\n",
            "eopch: 155, train_loss: 0.60369, train_acc:  1.00000, valid_loss: 0.60348, valid_acc: 1.00000\n",
            "eopch: 156, train_loss: 0.60118, train_acc:  1.00000, valid_loss: 0.59986, valid_acc: 1.00000\n",
            "eopch: 157, train_loss: 0.61636, train_acc:  1.00000, valid_loss: 0.59634, valid_acc: 1.00000\n",
            "eopch: 158, train_loss: 0.61270, train_acc:  1.00000, valid_loss: 0.59259, valid_acc: 1.00000\n",
            "eopch: 159, train_loss: 0.60880, train_acc:  1.00000, valid_loss: 0.58864, valid_acc: 1.00000\n",
            "eopch: 160, train_loss: 0.60470, train_acc:  1.00000, valid_loss: 0.58462, valid_acc: 1.00000\n",
            "eopch: 161, train_loss: 0.60052, train_acc:  1.00000, valid_loss: 0.58052, valid_acc: 1.00000\n",
            "eopch: 162, train_loss: 0.59626, train_acc:  1.00000, valid_loss: 0.57633, valid_acc: 1.00000\n",
            "eopch: 163, train_loss: 0.58370, train_acc:  1.00000, valid_loss: 0.57211, valid_acc: 1.00000\n",
            "eopch: 164, train_loss: 0.58095, train_acc:  1.00000, valid_loss: 0.56827, valid_acc: 1.00000\n",
            "eopch: 165, train_loss: 0.57855, train_acc:  1.00000, valid_loss: 0.56473, valid_acc: 1.00000\n",
            "eopch: 166, train_loss: 0.58045, train_acc:  1.00000, valid_loss: 0.56134, valid_acc: 1.00000\n",
            "eopch: 167, train_loss: 0.56025, train_acc:  1.00000, valid_loss: 0.55776, valid_acc: 1.00000\n",
            "eopch: 168, train_loss: 0.55660, train_acc:  1.00000, valid_loss: 0.55405, valid_acc: 1.00000\n",
            "eopch: 169, train_loss: 0.55283, train_acc:  1.00000, valid_loss: 0.55031, valid_acc: 1.00000\n",
            "eopch: 170, train_loss: 0.56676, train_acc:  1.00000, valid_loss: 0.54653, valid_acc: 1.00000\n",
            "eopch: 171, train_loss: 0.54541, train_acc:  1.00000, valid_loss: 0.54297, valid_acc: 1.00000\n",
            "eopch: 172, train_loss: 0.55829, train_acc:  1.00000, valid_loss: 0.53930, valid_acc: 1.00000\n",
            "eopch: 173, train_loss: 0.53810, train_acc:  1.00000, valid_loss: 0.53567, valid_acc: 1.00000\n",
            "eopch: 174, train_loss: 0.53444, train_acc:  1.00000, valid_loss: 0.53197, valid_acc: 1.00000\n",
            "eopch: 175, train_loss: 0.53072, train_acc:  1.00000, valid_loss: 0.52822, valid_acc: 1.00000\n",
            "eopch: 176, train_loss: 0.52696, train_acc:  1.00000, valid_loss: 0.52444, valid_acc: 1.00000\n",
            "eopch: 177, train_loss: 0.52317, train_acc:  1.00000, valid_loss: 0.52066, valid_acc: 1.00000\n",
            "eopch: 178, train_loss: 0.54836, train_acc:  1.00000, valid_loss: 0.51696, valid_acc: 1.00000\n",
            "eopch: 179, train_loss: 0.54598, train_acc:  1.00000, valid_loss: 0.51354, valid_acc: 1.00000\n",
            "eopch: 180, train_loss: 0.51255, train_acc:  1.00000, valid_loss: 0.51040, valid_acc: 1.00000\n",
            "eopch: 181, train_loss: 0.50937, train_acc:  1.00000, valid_loss: 0.50715, valid_acc: 1.00000\n",
            "eopch: 182, train_loss: 0.52254, train_acc:  1.00000, valid_loss: 0.50383, valid_acc: 1.00000\n",
            "eopch: 183, train_loss: 0.50275, train_acc:  1.00000, valid_loss: 0.50051, valid_acc: 1.00000\n",
            "eopch: 184, train_loss: 0.49941, train_acc:  1.00000, valid_loss: 0.49717, valid_acc: 1.00000\n",
            "eopch: 185, train_loss: 0.53321, train_acc:  1.00000, valid_loss: 0.49382, valid_acc: 1.00000\n",
            "eopch: 186, train_loss: 0.53095, train_acc:  1.00000, valid_loss: 0.49075, valid_acc: 1.00000\n",
            "eopch: 187, train_loss: 0.48988, train_acc:  1.00000, valid_loss: 0.48787, valid_acc: 1.00000\n",
            "eopch: 188, train_loss: 0.48696, train_acc:  1.00000, valid_loss: 0.48493, valid_acc: 1.00000\n",
            "eopch: 189, train_loss: 0.50038, train_acc:  1.00000, valid_loss: 0.48191, valid_acc: 1.00000\n",
            "eopch: 190, train_loss: 0.52279, train_acc:  1.00000, valid_loss: 0.47890, valid_acc: 1.00000\n",
            "eopch: 191, train_loss: 0.49439, train_acc:  1.00000, valid_loss: 0.47608, valid_acc: 1.00000\n",
            "eopch: 192, train_loss: 0.49149, train_acc:  1.00000, valid_loss: 0.47318, valid_acc: 1.00000\n",
            "eopch: 193, train_loss: 0.51679, train_acc:  1.00000, valid_loss: 0.47030, valid_acc: 1.00000\n",
            "eopch: 194, train_loss: 0.48564, train_acc:  1.00000, valid_loss: 0.46761, valid_acc: 1.00000\n",
            "eopch: 195, train_loss: 0.51297, train_acc:  1.00000, valid_loss: 0.46486, valid_acc: 1.00000\n",
            "eopch: 196, train_loss: 0.51087, train_acc:  1.00000, valid_loss: 0.46223, valid_acc: 1.00000\n",
            "eopch: 197, train_loss: 0.46157, train_acc:  1.00000, valid_loss: 0.45983, valid_acc: 1.00000\n",
            "eopch: 198, train_loss: 0.47501, train_acc:  1.00000, valid_loss: 0.45733, valid_acc: 1.00000\n",
            "eopch: 199, train_loss: 0.50522, train_acc:  1.00000, valid_loss: 0.45473, valid_acc: 1.00000\n",
            "eopch: 200, train_loss: 0.50317, train_acc:  1.00000, valid_loss: 0.45224, valid_acc: 1.00000\n"
          ],
          "name": "stdout"
        }
      ]
    },
    {
      "cell_type": "code",
      "metadata": {
        "id": "0G4Cgho12g2s"
      },
      "source": [
        "def draw_history(history):\n",
        "    \"\"\"\n",
        "    학습과정 그래프 출력\n",
        "    :param history: 학습 이력\n",
        "    \"\"\"\n",
        "    plt.figure(figsize=(12, 4))\n",
        "\n",
        "    plt.subplot(1, 2, 1)\n",
        "    plt.plot(history[\"train_loss\"], \"b-\", label=\"train_loss\")\n",
        "    plt.plot(history[\"valid_loss\"], \"r--\", label=\"valid_loss\")\n",
        "    plt.xlabel(\"Epoch\")\n",
        "    plt.legend()\n",
        "\n",
        "    plt.subplot(1, 2, 2)\n",
        "    plt.plot(history[\"train_acc\"], \"k--\", label=\"train_acc\")\n",
        "    plt.plot(history[\"valid_acc\"], \"k--\", label=\"valid_acc\")\n",
        "    plt.xlabel(\"Epoch\")\n",
        "    plt.legend()\n",
        "\n",
        "    plt.show()"
      ],
      "execution_count": 37,
      "outputs": []
    },
    {
      "cell_type": "code",
      "metadata": {
        "id": "0V_-Lq6N5Ur3",
        "colab": {
          "base_uri": "https://localhost:8080/",
          "height": 279
        },
        "outputId": "7011c2fc-b827-42fa-f1d1-cd74419f2bbb"
      },
      "source": [
        "# 학습과정 그래프 출력\n",
        "draw_history(history)"
      ],
      "execution_count": 38,
      "outputs": [
        {
          "output_type": "display_data",
          "data": {
            "image/png": "[encoded data removed]",
            "text/plain": [
              "<Figure size 864x288 with 2 Axes>"
            ]
          },
          "metadata": {
            "tags": [],
            "needs_background": "light"
          }
        }
      ]
    },
    {
      "cell_type": "markdown",
      "metadata": {
        "id": "Ax2QQK0kBvW9"
      },
      "source": [
        "# 테스트"
      ]
    },
    {
      "cell_type": "code",
      "metadata": {
        "colab": {
          "base_uri": "https://localhost:8080/"
        },
        "id": "4WwLTcSd9Rwb",
        "outputId": "b2ad4093-f39f-4639-c0f8-dc16902755be"
      },
      "source": [
        "# 테스트용 모델 생성\n",
        "model = SentencePrediction(len(word_to_id))\n",
        "model.to(args.device)\n",
        "\n",
        "print(model)"
      ],
      "execution_count": 41,
      "outputs": [
        {
          "output_type": "stream",
          "text": [
            "SentencePrediction(\n",
            "  (embed): Embedding(9, 4)\n",
            "  (linear): Linear(in_features=4, out_features=2, bias=True)\n",
            ")\n"
          ],
          "name": "stdout"
        }
      ]
    },
    {
      "cell_type": "code",
      "metadata": {
        "colab": {
          "base_uri": "https://localhost:8080/"
        },
        "id": "7o0W8I_TBzVa",
        "outputId": "66698f50-08db-421d-f43e-a9e6333e28c8"
      },
      "source": [
        "# 랜덤 초기화 모델 평가\n",
        "valid_loss, valid_acc = eval_epoch(args, model, test_loader, loss_fn)\n",
        "\n",
        "print(valid_loss, valid_acc)"
      ],
      "execution_count": 42,
      "outputs": [
        {
          "output_type": "stream",
          "text": [
            "1.548592984676361 0.25\n"
          ],
          "name": "stdout"
        }
      ]
    },
    {
      "cell_type": "code",
      "metadata": {
        "colab": {
          "base_uri": "https://localhost:8080/"
        },
        "id": "FNCjbpIsGJ3m",
        "outputId": "e94bb1e4-8395-4c96-b026-b85c3099cc30"
      },
      "source": [
        "# 저장된 데이터 로드\n",
        "save_dict = torch.load(args.save_path)\n",
        "\n",
        "print(save_dict)"
      ],
      "execution_count": 43,
      "outputs": [
        {
          "output_type": "stream",
          "text": [
            "{'state_dict': OrderedDict([('embed.weight', tensor([[-0.0552, -0.6125,  0.7500, -0.7346],\n",
            "        [ 0.4622,  1.1759,  0.2145,  0.5362],\n",
            "        [ 0.1365, -2.3332,  1.7155,  0.4128],\n",
            "        [ 0.6102, -0.4660, -1.7399,  0.1299],\n",
            "        [-0.5630, -0.4653,  0.0731, -1.3880],\n",
            "        [-0.3511,  0.1584, -0.0534, -0.8315],\n",
            "        [ 0.7911, -0.5510,  2.4727,  1.9937],\n",
            "        [ 0.1062,  0.3151, -1.1821,  0.2129],\n",
            "        [ 0.1469, -0.9053, -0.3587,  1.6374]])), ('linear.weight', tensor([[ 0.0787,  0.4266, -0.2147, -0.2130],\n",
            "        [ 0.1866, -0.4952,  0.0992, -0.1704]])), ('linear.bias', tensor([ 0.2977, -0.5089]))]), 'valid_acc': 1.0}\n"
          ],
          "name": "stdout"
        }
      ]
    },
    {
      "cell_type": "code",
      "metadata": {
        "colab": {
          "base_uri": "https://localhost:8080/"
        },
        "id": "uqzs6cEMHKTG",
        "outputId": "074fb68e-8fde-4e29-b4b4-c2446f6ef7fc"
      },
      "source": [
        "# 학습된 weights로 모델 초기화\n",
        "model.load_state_dict(save_dict['state_dict'])"
      ],
      "execution_count": 44,
      "outputs": [
        {
          "output_type": "execute_result",
          "data": {
            "text/plain": [
              "<All keys matched successfully>"
            ]
          },
          "metadata": {
            "tags": []
          },
          "execution_count": 44
        }
      ]
    },
    {
      "cell_type": "code",
      "metadata": {
        "colab": {
          "base_uri": "https://localhost:8080/"
        },
        "id": "YX3a_T5TI3BO",
        "outputId": "20a2a6ec-f1ca-4fa7-914b-5ec8e032a5b2"
      },
      "source": [
        "# 학습된 weights로 초기화 모델 평가\n",
        "valid_loss, valid_acc = eval_epoch(args, model, test_loader, loss_fn)\n",
        "\n",
        "print(valid_loss, valid_acc)"
      ],
      "execution_count": 45,
      "outputs": [
        {
          "output_type": "stream",
          "text": [
            "0.6275226771831512 1.0\n"
          ],
          "name": "stdout"
        }
      ]
    },
    {
      "cell_type": "markdown",
      "metadata": {
        "id": "cFt1yULNKGIh"
      },
      "source": [
        "# 배포"
      ]
    },
    {
      "cell_type": "code",
      "metadata": {
        "colab": {
          "base_uri": "https://localhost:8080/"
        },
        "id": "GT9YrcUIJZDT",
        "outputId": "73a9bd98-c7a1-4d69-d653-a04690a8b3b4"
      },
      "source": [
        "# 배포용 모델 생성\n",
        "model = SentencePrediction(len(word_to_id))\n",
        "model.to(args.device)\n",
        "\n",
        "# 저장된 데이터 로드\n",
        "save_dict = torch.load(args.save_path)\n",
        "\n",
        "# 학습된 weights로 모델 초기화\n",
        "model.load_state_dict(save_dict['state_dict'])"
      ],
      "execution_count": 46,
      "outputs": [
        {
          "output_type": "execute_result",
          "data": {
            "text/plain": [
              "<All keys matched successfully>"
            ]
          },
          "metadata": {
            "tags": []
          },
          "execution_count": 46
        }
      ]
    },
    {
      "cell_type": "code",
      "metadata": {
        "id": "RzFZBZ-_fVk5"
      },
      "source": [
        "def do_predict(word_to_id, model, string):\n",
        "    \"\"\"\n",
        "    입력에 대한 답변 생성하는 함수\n",
        "    :param word_to_id: vocabulary\n",
        "    :param model: model\n",
        "    :param string: 입력 문자열\n",
        "    \"\"\"\n",
        "    # token 생성\n",
        "    token = [word_to_id[w] for w in string.strip().split()]\n",
        "\n",
        "    model.eval()\n",
        "    with torch.no_grad():\n",
        "        inputs = torch.tensor([token]).to(args.device)\n",
        "        logits = model(inputs)\n",
        "        _, indices = logits.max(-1)\n",
        "        y_pred = indices[0].numpy()\n",
        "    result = \"학생\" if y_pred == 1 else \"기타\"\n",
        "    return result"
      ],
      "execution_count": 49,
      "outputs": []
    },
    {
      "cell_type": "code",
      "metadata": {
        "colab": {
          "base_uri": "https://localhost:8080/",
          "height": 35
        },
        "id": "o3gPJUQegLbu",
        "outputId": "f6a9cff8-8821-4532-8c2a-8175b2d6de15"
      },
      "source": [
        "# 예측 실행\n",
        "do_predict(word_to_id,model, \"당신은 선생님 입니다\")"
      ],
      "execution_count": 50,
      "outputs": [
        {
          "output_type": "execute_result",
          "data": {
            "application/vnd.google.colaboratory.intrinsic+json": {
              "type": "string"
            },
            "text/plain": [
              "'기타'"
            ]
          },
          "metadata": {
            "tags": []
          },
          "execution_count": 50
        }
      ]
    },
    {
      "cell_type": "code",
      "metadata": {
        "id": "PnlohL-OgklM"
      },
      "source": [
        ""
      ],
      "execution_count": null,
      "outputs": []
    }
  ]
}