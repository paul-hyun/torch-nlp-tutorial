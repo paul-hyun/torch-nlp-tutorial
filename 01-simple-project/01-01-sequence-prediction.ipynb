{
  "nbformat": 4,
  "nbformat_minor": 0,
  "metadata": {
    "colab": {
      "name": "01-01-sequence-prediction.ipynb",
      "provenance": [],
      "collapsed_sections": [
        "cxsyY8pZLzc3",
        "C9kQ6BLLMJ1F",
        "oSfkK0THQNfR",
        "tlIHyJcDbapo",
        "b_8Ao1VU2WMv",
        "ra_z67DBQprt",
        "qgDGlbSNQsll",
        "TXtlf7-wnQRR",
        "Ax2QQK0kBvW9",
        "cFt1yULNKGIh"
      ],
      "toc_visible": true
    },
    "kernelspec": {
      "name": "python3",
      "display_name": "Python 3"
    }
  },
  "cells": [
    {
      "cell_type": "markdown",
      "metadata": {
        "id": "cxsyY8pZLzc3"
      },
      "source": [
        "# Env"
      ]
    },
    {
      "cell_type": "code",
      "metadata": {
        "id": "Smf88lfWLrtG"
      },
      "source": [
        "import easydict\n",
        "import random\n",
        "\n",
        "import matplotlib.pyplot as plt\n",
        "import numpy as np\n",
        "import torch"
      ],
      "execution_count": null,
      "outputs": []
    },
    {
      "cell_type": "code",
      "metadata": {
        "colab": {
          "base_uri": "https://localhost:8080/"
        },
        "id": "ITwgwofw5mfH",
        "outputId": "f7b737e0-9194-4a29-a32d-70812fd649c2"
      },
      "source": [
        "# 학습환경 설정\n",
        "args = easydict.EasyDict({\n",
        "    # random seed value\n",
        "    \"seed\": 1234,\n",
        "    # number of epoch\n",
        "    \"n_epoch\": 200,\n",
        "    # number of batch\n",
        "    \"n_batch\": 2,\n",
        "    # learning rate\n",
        "    \"lr\": 0.001,\n",
        "    # weights 저장 위치\n",
        "    \"save_path\": \"01-01-sequence-prediction.pth\",\n",
        "    # CPU 또는 GPU 사용여부 결정\n",
        "    \"device\": torch.device(\"cuda\" if torch.cuda.is_available() else \"cpu\")\n",
        "})\n",
        "\n",
        "print(args)"
      ],
      "execution_count": null,
      "outputs": [
        {
          "output_type": "stream",
          "text": [
            "{'seed': 1234, 'n_epoch': 200, 'n_batch': 2, 'lr': 0.001, 'save_path': '01-01-sequence-prediction.pth', 'device': device(type='cpu')}\n"
          ],
          "name": "stdout"
        }
      ]
    },
    {
      "cell_type": "code",
      "metadata": {
        "id": "WT-r7T0-Lx3k"
      },
      "source": [
        "# random seed 설정\n",
        "random.seed(args.seed)\n",
        "np.random.seed(args.seed)\n",
        "torch.manual_seed(args.seed)\n",
        "torch.cuda.manual_seed_all(args.seed)"
      ],
      "execution_count": null,
      "outputs": []
    },
    {
      "cell_type": "markdown",
      "metadata": {
        "id": "C9kQ6BLLMJ1F"
      },
      "source": [
        "# Data"
      ]
    },
    {
      "cell_type": "code",
      "metadata": {
        "id": "8ThvTm6pL695"
      },
      "source": [
        "# 입력 문장\n",
        "raw_inputs = [\n",
        "    \"나는 학생 입니다\",\n",
        "    \"나는 좋은 선생님 입니다\",\n",
        "    \"당신은 매우 좋은 선생님 입니다\"\n",
        "]"
      ],
      "execution_count": null,
      "outputs": []
    },
    {
      "cell_type": "code",
      "metadata": {
        "id": "nYVMMUbGMN2j"
      },
      "source": [
        "# 정답: 명사(1), 기타(0)\n",
        "raw_labels = [\n",
        "    [0, 1, 0],\n",
        "    [0, 0, 1, 0],\n",
        "    [0, 0, 0, 1, 0]\n",
        "]"
      ],
      "execution_count": null,
      "outputs": []
    },
    {
      "cell_type": "markdown",
      "metadata": {
        "id": "oSfkK0THQNfR"
      },
      "source": [
        "# Vocabulary"
      ]
    },
    {
      "cell_type": "code",
      "metadata": {
        "colab": {
          "base_uri": "https://localhost:8080/"
        },
        "id": "tuBTi4UIQMvi",
        "outputId": "feb7fef3-d1df-4108-854c-79ba6758ad75"
      },
      "source": [
        "# 문장을 띄어쓰기단위로 분할\n",
        "words = []\n",
        "for s in raw_inputs:\n",
        "    words.extend(s.split())\n",
        "\n",
        "print(words)"
      ],
      "execution_count": null,
      "outputs": [
        {
          "output_type": "stream",
          "text": [
            "['나는', '학생', '입니다', '나는', '좋은', '선생님', '입니다', '당신은', '매우', '좋은', '선생님', '입니다']\n"
          ],
          "name": "stdout"
        }
      ]
    },
    {
      "cell_type": "code",
      "metadata": {
        "colab": {
          "base_uri": "https://localhost:8080/"
        },
        "id": "yBUR7JJNMYpV",
        "outputId": "3b8e9f11-b960-48ab-fc91-7f3bfd0b8f95"
      },
      "source": [
        "# 중복단어 제거\n",
        "words = list(dict.fromkeys(words))\n",
        "\n",
        "print(words)"
      ],
      "execution_count": null,
      "outputs": [
        {
          "output_type": "stream",
          "text": [
            "['나는', '학생', '입니다', '좋은', '선생님', '당신은', '매우']\n"
          ],
          "name": "stdout"
        }
      ]
    },
    {
      "cell_type": "code",
      "metadata": {
        "colab": {
          "base_uri": "https://localhost:8080/"
        },
        "id": "irEX0bzLRstR",
        "outputId": "6d102cae-53d8-4151-a360-cb2ab0eaf6a5"
      },
      "source": [
        "# 각 단어별 일련번호\n",
        "word_to_id = {\"[PAD]\": 0, \"[UNK]\": 1}\n",
        "for w in words:\n",
        "    word_to_id[w] = len(word_to_id)\n",
        "\n",
        "print(word_to_id)"
      ],
      "execution_count": null,
      "outputs": [
        {
          "output_type": "stream",
          "text": [
            "{'[PAD]': 0, '[UNK]': 1, '나는': 2, '학생': 3, '입니다': 4, '좋은': 5, '선생님': 6, '당신은': 7, '매우': 8}\n"
          ],
          "name": "stdout"
        }
      ]
    },
    {
      "cell_type": "code",
      "metadata": {
        "colab": {
          "base_uri": "https://localhost:8080/"
        },
        "id": "vIaQRilvSv3f",
        "outputId": "0a0ab476-1932-43a8-f6d9-21524f058a22"
      },
      "source": [
        "# 각 번호별 단어\n",
        "id_to_word = {i: w for w, i in word_to_id.items()}\n",
        "\n",
        "print(id_to_word)"
      ],
      "execution_count": null,
      "outputs": [
        {
          "output_type": "stream",
          "text": [
            "{0: '[PAD]', 1: '[UNK]', 2: '나는', 3: '학생', 4: '입니다', 5: '좋은', 6: '선생님', 7: '당신은', 8: '매우'}\n"
          ],
          "name": "stdout"
        }
      ]
    },
    {
      "cell_type": "markdown",
      "metadata": {
        "id": "tlIHyJcDbapo"
      },
      "source": [
        "# 학습 및 평가용 데이터 생성"
      ]
    },
    {
      "cell_type": "code",
      "metadata": {
        "colab": {
          "base_uri": "https://localhost:8080/"
        },
        "id": "SvwJVpvkUhHe",
        "outputId": "34394aca-604a-469c-ae98-5e01be1071e5"
      },
      "source": [
        "# 입력 데이터\n",
        "inputs = []\n",
        "for s in raw_inputs:\n",
        "    inputs.append([word_to_id[w] for w in s.split()])\n",
        "    \n",
        "print(inputs)"
      ],
      "execution_count": null,
      "outputs": [
        {
          "output_type": "stream",
          "text": [
            "[[2, 3, 4], [2, 5, 6, 4], [7, 8, 5, 6, 4]]\n"
          ],
          "name": "stdout"
        }
      ]
    },
    {
      "cell_type": "code",
      "metadata": {
        "colab": {
          "base_uri": "https://localhost:8080/"
        },
        "id": "ZVDs0eMBbd91",
        "outputId": "44049030-77b1-4896-e802-a8f05db5c011"
      },
      "source": [
        "# 정답 데이터\n",
        "labels = raw_labels\n",
        "\n",
        "print(labels)"
      ],
      "execution_count": null,
      "outputs": [
        {
          "output_type": "stream",
          "text": [
            "[[0, 1, 0], [0, 0, 1, 0], [0, 0, 0, 1, 0]]\n"
          ],
          "name": "stdout"
        }
      ]
    },
    {
      "cell_type": "code",
      "metadata": {
        "id": "kAs77Y2McdLs"
      },
      "source": [
        "class SimpleDataSet(torch.utils.data.Dataset):\n",
        "    \"\"\" 데이터셋 클래스 \"\"\"\n",
        "\n",
        "    def __init__(self, inputs, labels):\n",
        "        \"\"\"\n",
        "        생성자\n",
        "        :param inputs: 입력\n",
        "        :param labels: 정답\n",
        "        \"\"\"\n",
        "        self.inputs = inputs\n",
        "        self.labels = labels\n",
        "\n",
        "    def __len__(self):\n",
        "        \"\"\" 데이터셋 길이 \"\"\"\n",
        "        assert len(self.inputs) == len(self.labels)\n",
        "        return len(self.labels)\n",
        "\n",
        "    def __getitem__(self, index):\n",
        "        \"\"\"\n",
        "        데이터 한 개 조회\n",
        "        :param index: 데이터 위치\n",
        "        \"\"\"\n",
        "        return (\n",
        "            torch.tensor(self.inputs[index]),\n",
        "            torch.tensor(self.labels[index]),\n",
        "        )\n",
        "\n",
        "    def collate_fn(self, batch):\n",
        "        \"\"\"\n",
        "        batch단위로 데이터 처리\n",
        "        :param batch: batch 단위 데이터\n",
        "        \"\"\"\n",
        "        inputs, labels = list(zip(*batch))\n",
        "\n",
        "        inputs = torch.nn.utils.rnn.pad_sequence(inputs, batch_first=True, padding_value=0)\n",
        "        labels = torch.nn.utils.rnn.pad_sequence(labels, batch_first=True, padding_value=0)\n",
        "\n",
        "        batch = [\n",
        "            inputs,\n",
        "            labels,\n",
        "        ]\n",
        "\n",
        "        return batch"
      ],
      "execution_count": null,
      "outputs": []
    },
    {
      "cell_type": "code",
      "metadata": {
        "colab": {
          "base_uri": "https://localhost:8080/"
        },
        "id": "ZMeQxMqKc1vW",
        "outputId": "4644cc82-8180-4086-de5d-d7dbed029f75"
      },
      "source": [
        "# dataset\n",
        "dataset = SimpleDataSet(inputs, labels)\n",
        "\n",
        "print(len(dataset))"
      ],
      "execution_count": null,
      "outputs": [
        {
          "output_type": "stream",
          "text": [
            "3\n"
          ],
          "name": "stdout"
        }
      ]
    },
    {
      "cell_type": "code",
      "metadata": {
        "id": "yoGD3Q4PgVPr"
      },
      "source": [
        "# random sample data\n",
        "sampler = torch.utils.data.RandomSampler(dataset)"
      ],
      "execution_count": null,
      "outputs": []
    },
    {
      "cell_type": "code",
      "metadata": {
        "id": "kCtpY8APhSpr"
      },
      "source": [
        "# train loader\n",
        "train_loader = torch.utils.data.DataLoader(dataset, batch_size=args.n_batch, sampler=sampler, collate_fn=dataset.collate_fn)"
      ],
      "execution_count": null,
      "outputs": []
    },
    {
      "cell_type": "code",
      "metadata": {
        "id": "w2cgFJM5jOUi"
      },
      "source": [
        "# dataset\n",
        "dataset = SimpleDataSet(inputs, labels)\n",
        "# valid loader\n",
        "valid_loader = torch.utils.data.DataLoader(dataset, batch_size=args.n_batch, sampler=None, collate_fn=dataset.collate_fn)"
      ],
      "execution_count": null,
      "outputs": []
    },
    {
      "cell_type": "code",
      "metadata": {
        "id": "KOeVClp8jXnX"
      },
      "source": [
        "# dataset\n",
        "dataset = SimpleDataSet(inputs, labels)\n",
        "# test loader\n",
        "test_loader = torch.utils.data.DataLoader(dataset, batch_size=args.n_batch, sampler=None, collate_fn=dataset.collate_fn)"
      ],
      "execution_count": null,
      "outputs": []
    },
    {
      "cell_type": "markdown",
      "metadata": {
        "id": "b_8Ao1VU2WMv"
      },
      "source": [
        "# 모델링"
      ]
    },
    {
      "cell_type": "markdown",
      "metadata": {
        "id": "ra_z67DBQprt"
      },
      "source": [
        "## Tutorial"
      ]
    },
    {
      "cell_type": "code",
      "metadata": {
        "colab": {
          "base_uri": "https://localhost:8080/"
        },
        "id": "6SOnjwnM-EQY",
        "outputId": "64bba536-980f-4a34-997c-648c7b79a023"
      },
      "source": [
        "# model tutorial 입력\n",
        "t_inputs = torch.tensor(inputs[:1])\n",
        "t_labels = torch.tensor(labels[:1])\n",
        "\n",
        "print(t_inputs, t_labels)"
      ],
      "execution_count": null,
      "outputs": [
        {
          "output_type": "stream",
          "text": [
            "tensor([[2, 3, 4]]) tensor([[0, 1, 0]])\n"
          ],
          "name": "stdout"
        }
      ]
    },
    {
      "cell_type": "code",
      "metadata": {
        "colab": {
          "base_uri": "https://localhost:8080/"
        },
        "id": "MBSkUawK92qH",
        "outputId": "19d25744-295d-4e97-bafe-6ca376f148ab"
      },
      "source": [
        "# 단어 일련번호를 단어 벡터로 변환\n",
        "embed = torch.nn.Embedding(len(word_to_id), 4)\n",
        "hidden = embed(t_inputs)\n",
        "\n",
        "print(hidden.shape, hidden)"
      ],
      "execution_count": null,
      "outputs": [
        {
          "output_type": "stream",
          "text": [
            "torch.Size([1, 3, 4]) tensor([[[-0.3705,  1.7901, -1.2097, -0.1387],\n",
            "         [ 1.1752, -0.1121,  1.3953,  2.4042],\n",
            "         [-0.1236,  1.0084, -1.3304, -0.2379]]], grad_fn=<EmbeddingBackward>)\n"
          ],
          "name": "stdout"
        }
      ]
    },
    {
      "cell_type": "code",
      "metadata": {
        "id": "NxlPNNlh_n5Z"
      },
      "source": [
        "# RNN, CNN, Attention 등 다양한 NN 실행"
      ],
      "execution_count": null,
      "outputs": []
    },
    {
      "cell_type": "code",
      "metadata": {
        "colab": {
          "base_uri": "https://localhost:8080/"
        },
        "id": "p0P6VNAY_2WD",
        "outputId": "f3ad049b-f276-405a-c78b-7f895c33f87a"
      },
      "source": [
        "# 단어 명사(1) 또는 기타(0) 예측\n",
        "linear = torch.nn.Linear(4, 2)\n",
        "logits = linear(hidden)\n",
        "\n",
        "print(logits.shape, logits)"
      ],
      "execution_count": null,
      "outputs": [
        {
          "output_type": "stream",
          "text": [
            "torch.Size([1, 3, 2]) tensor([[[-0.5760,  0.4938],\n",
            "         [-0.1656,  0.0456],\n",
            "         [-0.2632,  0.3291]]], grad_fn=<AddBackward0>)\n"
          ],
          "name": "stdout"
        }
      ]
    },
    {
      "cell_type": "code",
      "metadata": {
        "colab": {
          "base_uri": "https://localhost:8080/"
        },
        "id": "z5NjboACNK2K",
        "outputId": "e19262cb-7e04-4d04-b181-8b574078e823"
      },
      "source": [
        "# CrossEntropy loss 계산\n",
        "loss_fn = torch.nn.CrossEntropyLoss()\n",
        "loss = loss_fn(logits.view(-1, logits.size(-1)), t_labels.view(-1))\n",
        "\n",
        "print(loss)"
      ],
      "execution_count": null,
      "outputs": [
        {
          "output_type": "stream",
          "text": [
            "tensor(0.9968, grad_fn=<NllLossBackward>)\n"
          ],
          "name": "stdout"
        }
      ]
    },
    {
      "cell_type": "markdown",
      "metadata": {
        "id": "qgDGlbSNQsll"
      },
      "source": [
        "## Class"
      ]
    },
    {
      "cell_type": "code",
      "metadata": {
        "id": "5O7Y4MM8jaba"
      },
      "source": [
        "class SequencePrediction(torch.nn.Module):\n",
        "    \"\"\" 단어단위 예측 모델 \"\"\"\n",
        "\n",
        "    def __init__(self, n_vocab):\n",
        "        \"\"\"\n",
        "        생성자\n",
        "        :param n_vocab: number of vocab\n",
        "        \"\"\"\n",
        "        super().__init__()\n",
        "        self.embed = torch.nn.Embedding(n_vocab, 4)\n",
        "        self.linear = torch.nn.Linear(4, 2)\n",
        "\n",
        "    def forward(self, inputs):\n",
        "        \"\"\"\n",
        "        모델 실행\n",
        "        :param inputs: input data\n",
        "        \"\"\"\n",
        "        hidden = self.embed(inputs)\n",
        "        logits = self.linear(hidden)\n",
        "        return logits"
      ],
      "execution_count": null,
      "outputs": []
    },
    {
      "cell_type": "code",
      "metadata": {
        "colab": {
          "base_uri": "https://localhost:8080/"
        },
        "id": "kZBt3X0w2XuJ",
        "outputId": "c2ad3baa-589c-4f0d-e65d-a5d72dac11d2"
      },
      "source": [
        "# 학습용 모델 생성\n",
        "model = SequencePrediction(len(word_to_id))\n",
        "model.to(args.device)\n",
        "\n",
        "print(model)"
      ],
      "execution_count": null,
      "outputs": [
        {
          "output_type": "stream",
          "text": [
            "SequencePrediction(\n",
            "  (embed): Embedding(9, 4)\n",
            "  (linear): Linear(in_features=4, out_features=2, bias=True)\n",
            ")\n"
          ],
          "name": "stdout"
        }
      ]
    },
    {
      "cell_type": "markdown",
      "metadata": {
        "id": "TXtlf7-wnQRR"
      },
      "source": [
        "# 학습"
      ]
    },
    {
      "cell_type": "code",
      "metadata": {
        "id": "yp2CcBXr4hbJ"
      },
      "source": [
        "# loss & optimizer 생성\n",
        "loss_fn = torch.nn.CrossEntropyLoss()\n",
        "optimizer = torch.optim.Adam(model.parameters(), lr=args.lr)"
      ],
      "execution_count": null,
      "outputs": []
    },
    {
      "cell_type": "code",
      "metadata": {
        "id": "AXocuxR64WDa"
      },
      "source": [
        "def accuracy_fn(logits, labels):\n",
        "    \"\"\"\n",
        "    model accuracy 측정\n",
        "    :param logits: 예측 값\n",
        "    :param labels: 정답\n",
        "    \"\"\"\n",
        "    # 값이 최대인 index 값\n",
        "    _, indices = logits.max(-1)\n",
        "    # label과 비교\n",
        "    matchs = torch.eq(indices, labels).cpu().numpy()\n",
        "    total = np.ones_like(matchs)\n",
        "    acc_val = np.sum(matchs) / max(1, np.sum(total))\n",
        "    return acc_val"
      ],
      "execution_count": null,
      "outputs": []
    },
    {
      "cell_type": "code",
      "metadata": {
        "id": "A5KfZCq06fa0"
      },
      "source": [
        "def train_epoch(args, model, loader, loss_fn, optimizer):\n",
        "    \"\"\"\n",
        "    1 epoch 학습\n",
        "    :param args: 입력 arguments\n",
        "    :param model: 모델\n",
        "    :param loader: 데이터로더\n",
        "    :param loss_fn: loss 계산함수\n",
        "    :param optimizer: optimizer\n",
        "    \"\"\"\n",
        "    # model을 train 모드로 전환\n",
        "    model.train()\n",
        "    # loss 및 accuracy 저장\n",
        "    losses, access = [], []\n",
        "    # data loader에서 batch단위로 처리\n",
        "    for batch in loader:\n",
        "        # optimizer 초기화\n",
        "        optimizer.zero_grad()\n",
        "        # batch 입력값 처리 (CPU or GPU)\n",
        "        inputs, labels = map(lambda v: v.to(args.device), batch)\n",
        "        # 모델 실행\n",
        "        logits = model(inputs)\n",
        "        # loss 계산\n",
        "        loss = loss_fn(logits.view(-1, logits.size(-1)), labels.view(-1))\n",
        "        loss.backward()\n",
        "        # model weight 변경\n",
        "        optimizer.step()\n",
        "        # loss 저장\n",
        "        loss_val = loss.item()\n",
        "        losses.append(loss_val)\n",
        "        # accuracy 계산 및 저장\n",
        "        acc_val = accuracy_fn(logits, labels)\n",
        "        access.append(acc_val)\n",
        "\n",
        "    return np.mean(losses), np.mean(access)"
      ],
      "execution_count": null,
      "outputs": []
    },
    {
      "cell_type": "code",
      "metadata": {
        "id": "c82uDrnP4Q4l"
      },
      "source": [
        "def eval_epoch(args, model, loader, loss_fn):\n",
        "    \"\"\"\n",
        "    1 epoch 평가\n",
        "    :param args: 입력 arguments\n",
        "    :param model: 모델\n",
        "    :param loader: 데이터로더\n",
        "    :param loss_fn: loss 계산함수\n",
        "    \"\"\"\n",
        "    # model을 eval 모드로 전환\n",
        "    model.eval()\n",
        "    # loss 및 accuracy 저장\n",
        "    losses, access = [], []\n",
        "    # 실행시에 gradint 계산 비활성화\n",
        "    with torch.no_grad():\n",
        "        for batch in loader:\n",
        "            # batch 입력값 처리 (CPU or GPU)\n",
        "            inputs, labels = map(lambda v: v.to(args.device), batch)\n",
        "            # 모델 실행\n",
        "            logits = model(inputs)\n",
        "            # loss 계산\n",
        "            loss = loss_fn(logits.view(-1, logits.size(-1)), labels.view(-1))\n",
        "            # loss 저장\n",
        "            loss_val = loss.item()\n",
        "            losses.append(loss_val)\n",
        "            # accuracy 계산 및 저장\n",
        "            acc_val = accuracy_fn(logits, labels)\n",
        "            access.append(acc_val)\n",
        "\n",
        "    return np.mean(losses), np.mean(access)"
      ],
      "execution_count": null,
      "outputs": []
    },
    {
      "cell_type": "code",
      "metadata": {
        "id": "LOb_icmJ4maJ"
      },
      "source": [
        "# 학습 history\n",
        "history = {\"train_loss\": [], \"train_acc\": [], \"valid_loss\": [], \"valid_acc\": []}\n",
        "# 가장 좋은 acc 값\n",
        "best_acc = 0"
      ],
      "execution_count": null,
      "outputs": []
    },
    {
      "cell_type": "code",
      "metadata": {
        "id": "JFRu8nkb4VQ1",
        "colab": {
          "base_uri": "https://localhost:8080/"
        },
        "outputId": "54b0db55-aa6c-410d-ea9c-ab797aea5fed"
      },
      "source": [
        "# 학습 및 평가\n",
        "for e in range(args.n_epoch):\n",
        "    train_loss, train_acc = train_epoch(args, model, train_loader, loss_fn, optimizer)\n",
        "    valid_loss, valid_acc = eval_epoch(args, model, valid_loader, loss_fn)\n",
        "    # 학습 history 저장\n",
        "    history[\"train_loss\"].append(train_loss)\n",
        "    history[\"train_acc\"].append(train_acc)\n",
        "    history[\"valid_loss\"].append(valid_loss)\n",
        "    history[\"valid_acc\"].append(valid_acc)\n",
        "    # 학습과정 출력\n",
        "    print(f\"eopch: {e + 1:3d}, train_loss: {train_loss:.5f}, train_acc: {train_acc: .5f}, valid_loss: {valid_loss:.5f}, valid_acc: {valid_acc:.5f}\")\n",
        "    # best weight 저장\n",
        "    if best_acc < valid_acc:\n",
        "        best_acc = valid_acc\n",
        "        # 저장\n",
        "        torch.save(\n",
        "            {\"state_dict\": model.state_dict(), \"valid_acc\": valid_acc},\n",
        "            args.save_path,\n",
        "        )\n",
        "        # 저장내용 출력\n",
        "        print(f\"  >> save weights: {args.save_path}\")"
      ],
      "execution_count": null,
      "outputs": [
        {
          "output_type": "stream",
          "text": [
            "eopch:   1, train_loss: 1.06097, train_acc:  0.41667, valid_loss: 0.97409, valid_acc: 0.45000\n",
            "  >> save weights: 01-01-sequence-prediction.pth\n",
            "eopch:   2, train_loss: 1.05419, train_acc:  0.41667, valid_loss: 0.96783, valid_acc: 0.45000\n",
            "eopch:   3, train_loss: 0.96627, train_acc:  0.45000, valid_loss: 0.96163, valid_acc: 0.45000\n",
            "eopch:   4, train_loss: 0.96003, train_acc:  0.45000, valid_loss: 0.95539, valid_acc: 0.45000\n",
            "eopch:   5, train_loss: 1.03487, train_acc:  0.41667, valid_loss: 0.94916, valid_acc: 0.45000\n",
            "eopch:   6, train_loss: 0.95189, train_acc:  0.50000, valid_loss: 0.94301, valid_acc: 0.45000\n",
            "eopch:   7, train_loss: 0.94590, train_acc:  0.50000, valid_loss: 0.93689, valid_acc: 0.45000\n",
            "eopch:   8, train_loss: 0.93989, train_acc:  0.50000, valid_loss: 0.93079, valid_acc: 0.45000\n",
            "eopch:   9, train_loss: 0.93389, train_acc:  0.50000, valid_loss: 0.92472, valid_acc: 0.45000\n",
            "eopch:  10, train_loss: 1.00402, train_acc:  0.41667, valid_loss: 0.91867, valid_acc: 0.45000\n",
            "eopch:  11, train_loss: 0.91714, train_acc:  0.55000, valid_loss: 0.91266, valid_acc: 0.55000\n",
            "  >> save weights: 01-01-sequence-prediction.pth\n",
            "eopch:  12, train_loss: 0.99186, train_acc:  0.46667, valid_loss: 0.90666, valid_acc: 0.55000\n",
            "eopch:  13, train_loss: 0.90513, train_acc:  0.55000, valid_loss: 0.90069, valid_acc: 0.55000\n",
            "eopch:  14, train_loss: 0.89915, train_acc:  0.55000, valid_loss: 0.89473, valid_acc: 0.55000\n",
            "eopch:  15, train_loss: 0.89317, train_acc:  0.55000, valid_loss: 0.88876, valid_acc: 0.55000\n",
            "eopch:  16, train_loss: 0.96777, train_acc:  0.46667, valid_loss: 0.88281, valid_acc: 0.55000\n",
            "eopch:  17, train_loss: 0.96176, train_acc:  0.46667, valid_loss: 0.87691, valid_acc: 0.55000\n",
            "eopch:  18, train_loss: 0.95573, train_acc:  0.46667, valid_loss: 0.87106, valid_acc: 0.55000\n",
            "eopch:  19, train_loss: 0.87564, train_acc:  0.55000, valid_loss: 0.86527, valid_acc: 0.55000\n",
            "eopch:  20, train_loss: 0.87001, train_acc:  0.55000, valid_loss: 0.85951, valid_acc: 0.55000\n",
            "eopch:  21, train_loss: 0.85804, train_acc:  0.55000, valid_loss: 0.85376, valid_acc: 0.55000\n",
            "eopch:  22, train_loss: 0.85875, train_acc:  0.55000, valid_loss: 0.84802, valid_acc: 0.55000\n",
            "eopch:  23, train_loss: 0.84654, train_acc:  0.55000, valid_loss: 0.84229, valid_acc: 0.55000\n",
            "eopch:  24, train_loss: 0.84081, train_acc:  0.55000, valid_loss: 0.83657, valid_acc: 0.55000\n",
            "eopch:  25, train_loss: 0.91509, train_acc:  0.46667, valid_loss: 0.83085, valid_acc: 0.55000\n",
            "eopch:  26, train_loss: 0.82938, train_acc:  0.55000, valid_loss: 0.82518, valid_acc: 0.55000\n",
            "eopch:  27, train_loss: 0.90366, train_acc:  0.46667, valid_loss: 0.81952, valid_acc: 0.55000\n",
            "eopch:  28, train_loss: 0.82539, train_acc:  0.55000, valid_loss: 0.81392, valid_acc: 0.55000\n",
            "eopch:  29, train_loss: 0.81994, train_acc:  0.55000, valid_loss: 0.80836, valid_acc: 0.55000\n",
            "eopch:  30, train_loss: 0.81450, train_acc:  0.55000, valid_loss: 0.80283, valid_acc: 0.55000\n",
            "eopch:  31, train_loss: 0.88128, train_acc:  0.46667, valid_loss: 0.79731, valid_acc: 0.55000\n",
            "eopch:  32, train_loss: 0.80367, train_acc:  0.55000, valid_loss: 0.79186, valid_acc: 0.55000\n",
            "eopch:  33, train_loss: 0.87025, train_acc:  0.46667, valid_loss: 0.78641, valid_acc: 0.55000\n",
            "eopch:  34, train_loss: 0.78503, train_acc:  0.55000, valid_loss: 0.78100, valid_acc: 0.55000\n",
            "eopch:  35, train_loss: 0.78769, train_acc:  0.55000, valid_loss: 0.77560, valid_acc: 0.55000\n",
            "eopch:  36, train_loss: 0.77422, train_acc:  0.55000, valid_loss: 0.77022, valid_acc: 0.55000\n",
            "eopch:  37, train_loss: 0.76882, train_acc:  0.55000, valid_loss: 0.76483, valid_acc: 0.55000\n",
            "eopch:  38, train_loss: 0.76343, train_acc:  0.55000, valid_loss: 0.75945, valid_acc: 0.55000\n",
            "eopch:  39, train_loss: 0.76664, train_acc:  0.55000, valid_loss: 0.75410, valid_acc: 0.55000\n",
            "eopch:  40, train_loss: 0.75271, train_acc:  0.55000, valid_loss: 0.74877, valid_acc: 0.55000\n",
            "eopch:  41, train_loss: 0.75623, train_acc:  0.55000, valid_loss: 0.74347, valid_acc: 0.55000\n",
            "eopch:  42, train_loss: 0.74210, train_acc:  0.55000, valid_loss: 0.73820, valid_acc: 0.55000\n",
            "eopch:  43, train_loss: 0.73682, train_acc:  0.55000, valid_loss: 0.73293, valid_acc: 0.55000\n",
            "eopch:  44, train_loss: 0.73155, train_acc:  0.55000, valid_loss: 0.72768, valid_acc: 0.55000\n",
            "eopch:  45, train_loss: 0.80667, train_acc:  0.46667, valid_loss: 0.72244, valid_acc: 0.55000\n",
            "eopch:  46, train_loss: 0.73059, train_acc:  0.55000, valid_loss: 0.71727, valid_acc: 0.55000\n",
            "eopch:  47, train_loss: 0.71594, train_acc:  0.55000, valid_loss: 0.71213, valid_acc: 0.55000\n",
            "eopch:  48, train_loss: 0.72055, train_acc:  0.55000, valid_loss: 0.70702, valid_acc: 0.55000\n",
            "eopch:  49, train_loss: 0.71556, train_acc:  0.55000, valid_loss: 0.70195, valid_acc: 0.55000\n",
            "eopch:  50, train_loss: 0.70064, train_acc:  0.55000, valid_loss: 0.69690, valid_acc: 0.55000\n",
            "eopch:  51, train_loss: 0.77627, train_acc:  0.46667, valid_loss: 0.69186, valid_acc: 0.55000\n",
            "eopch:  52, train_loss: 0.77122, train_acc:  0.46667, valid_loss: 0.68686, valid_acc: 0.55000\n",
            "eopch:  53, train_loss: 0.69588, train_acc:  0.55000, valid_loss: 0.68192, valid_acc: 0.55000\n",
            "eopch:  54, train_loss: 0.76115, train_acc:  0.46667, valid_loss: 0.67701, valid_acc: 0.55000\n",
            "eopch:  55, train_loss: 0.68626, train_acc:  0.55000, valid_loss: 0.67214, valid_acc: 0.55000\n",
            "eopch:  56, train_loss: 0.68150, train_acc:  0.55000, valid_loss: 0.66731, valid_acc: 0.55000\n",
            "eopch:  57, train_loss: 0.67676, train_acc:  0.55000, valid_loss: 0.66251, valid_acc: 0.55000\n",
            "eopch:  58, train_loss: 0.67203, train_acc:  0.55000, valid_loss: 0.65775, valid_acc: 0.55000\n",
            "eopch:  59, train_loss: 0.73678, train_acc:  0.46667, valid_loss: 0.65299, valid_acc: 0.55000\n",
            "eopch:  60, train_loss: 0.65180, train_acc:  0.55000, valid_loss: 0.64827, valid_acc: 0.55000\n",
            "eopch:  61, train_loss: 0.65800, train_acc:  0.55000, valid_loss: 0.64357, valid_acc: 0.55000\n",
            "eopch:  62, train_loss: 0.72249, train_acc:  0.46667, valid_loss: 0.63888, valid_acc: 0.55000\n",
            "eopch:  63, train_loss: 0.63771, train_acc:  0.55000, valid_loss: 0.63423, valid_acc: 0.65000\n",
            "  >> save weights: 01-01-sequence-prediction.pth\n",
            "eopch:  64, train_loss: 0.64424, train_acc:  0.60000, valid_loss: 0.62960, valid_acc: 0.65000\n",
            "eopch:  65, train_loss: 0.62842, train_acc:  0.65000, valid_loss: 0.62499, valid_acc: 0.65000\n",
            "eopch:  66, train_loss: 0.62380, train_acc:  0.65000, valid_loss: 0.62038, valid_acc: 0.65000\n",
            "eopch:  67, train_loss: 0.63068, train_acc:  0.60000, valid_loss: 0.61580, valid_acc: 0.65000\n",
            "eopch:  68, train_loss: 0.62621, train_acc:  0.60000, valid_loss: 0.61127, valid_acc: 0.65000\n",
            "eopch:  69, train_loss: 0.61011, train_acc:  0.65000, valid_loss: 0.60676, valid_acc: 0.65000\n",
            "eopch:  70, train_loss: 0.68575, train_acc:  0.51667, valid_loss: 0.60226, valid_acc: 0.65000\n",
            "eopch:  71, train_loss: 0.61293, train_acc:  0.60000, valid_loss: 0.59781, valid_acc: 0.58750\n",
            "eopch:  72, train_loss: 0.60857, train_acc:  0.55000, valid_loss: 0.59341, valid_acc: 0.58750\n",
            "eopch:  73, train_loss: 0.59229, train_acc:  0.58750, valid_loss: 0.58902, valid_acc: 0.58750\n",
            "eopch:  74, train_loss: 0.58790, train_acc:  0.58750, valid_loss: 0.58464, valid_acc: 0.58750\n",
            "eopch:  75, train_loss: 0.59563, train_acc:  0.55000, valid_loss: 0.58029, valid_acc: 0.58750\n",
            "eopch:  76, train_loss: 0.65943, train_acc:  0.35000, valid_loss: 0.57597, valid_acc: 0.58750\n",
            "eopch:  77, train_loss: 0.57488, train_acc:  0.58750, valid_loss: 0.57169, valid_acc: 0.58750\n",
            "eopch:  78, train_loss: 0.58293, train_acc:  0.55000, valid_loss: 0.56743, valid_acc: 0.58750\n",
            "eopch:  79, train_loss: 0.57876, train_acc:  0.55000, valid_loss: 0.56321, valid_acc: 0.58750\n",
            "eopch:  80, train_loss: 0.57460, train_acc:  0.55000, valid_loss: 0.55903, valid_acc: 0.58750\n",
            "eopch:  81, train_loss: 0.57047, train_acc:  0.55000, valid_loss: 0.55488, valid_acc: 0.58750\n",
            "eopch:  82, train_loss: 0.56636, train_acc:  0.55000, valid_loss: 0.55077, valid_acc: 0.58750\n",
            "eopch:  83, train_loss: 0.56228, train_acc:  0.55000, valid_loss: 0.54669, valid_acc: 0.81250\n",
            "  >> save weights: 01-01-sequence-prediction.pth\n",
            "eopch:  84, train_loss: 0.54567, train_acc:  0.81250, valid_loss: 0.54263, valid_acc: 0.81250\n",
            "eopch:  85, train_loss: 0.54160, train_acc:  0.81250, valid_loss: 0.53858, valid_acc: 0.81250\n",
            "eopch:  86, train_loss: 0.55018, train_acc:  0.77500, valid_loss: 0.53456, valid_acc: 0.81250\n",
            "eopch:  87, train_loss: 0.61410, train_acc:  0.61667, valid_loss: 0.53056, valid_acc: 0.81250\n",
            "eopch:  88, train_loss: 0.52956, train_acc:  0.81250, valid_loss: 0.52659, valid_acc: 0.81250\n",
            "eopch:  89, train_loss: 0.60607, train_acc:  0.61667, valid_loss: 0.52263, valid_acc: 0.81250\n",
            "eopch:  90, train_loss: 0.52165, train_acc:  0.81250, valid_loss: 0.51871, valid_acc: 0.81250\n",
            "eopch:  91, train_loss: 0.59800, train_acc:  0.61667, valid_loss: 0.51480, valid_acc: 0.81250\n",
            "eopch:  92, train_loss: 0.52685, train_acc:  0.77500, valid_loss: 0.51095, valid_acc: 0.81250\n",
            "eopch:  93, train_loss: 0.52306, train_acc:  0.77500, valid_loss: 0.50713, valid_acc: 0.81250\n",
            "eopch:  94, train_loss: 0.58610, train_acc:  0.61667, valid_loss: 0.50333, valid_acc: 0.81250\n",
            "eopch:  95, train_loss: 0.58216, train_acc:  0.61667, valid_loss: 0.49957, valid_acc: 0.81250\n",
            "eopch:  96, train_loss: 0.49865, train_acc:  0.81250, valid_loss: 0.49583, valid_acc: 0.81250\n",
            "eopch:  97, train_loss: 0.50822, train_acc:  0.77500, valid_loss: 0.49213, valid_acc: 0.81250\n",
            "eopch:  98, train_loss: 0.57046, train_acc:  0.61667, valid_loss: 0.48844, valid_acc: 0.81250\n",
            "eopch:  99, train_loss: 0.50095, train_acc:  0.77500, valid_loss: 0.48480, valid_acc: 0.81250\n",
            "eopch: 100, train_loss: 0.48391, train_acc:  0.81250, valid_loss: 0.48118, valid_acc: 0.81250\n",
            "eopch: 101, train_loss: 0.49378, train_acc:  0.77500, valid_loss: 0.47758, valid_acc: 0.81250\n",
            "eopch: 102, train_loss: 0.55544, train_acc:  0.61667, valid_loss: 0.47400, valid_acc: 0.81250\n",
            "eopch: 103, train_loss: 0.55173, train_acc:  0.61667, valid_loss: 0.47046, valid_acc: 0.81250\n",
            "eopch: 104, train_loss: 0.46961, train_acc:  0.81250, valid_loss: 0.46695, valid_acc: 0.81250\n",
            "eopch: 105, train_loss: 0.46609, train_acc:  0.81250, valid_loss: 0.46345, valid_acc: 0.81250\n",
            "eopch: 106, train_loss: 0.46259, train_acc:  0.81250, valid_loss: 0.45997, valid_acc: 0.81250\n",
            "eopch: 107, train_loss: 0.53711, train_acc:  0.61667, valid_loss: 0.45651, valid_acc: 0.81250\n",
            "eopch: 108, train_loss: 0.46951, train_acc:  0.77500, valid_loss: 0.45309, valid_acc: 0.81250\n",
            "eopch: 109, train_loss: 0.46614, train_acc:  0.77500, valid_loss: 0.44971, valid_acc: 0.81250\n",
            "eopch: 110, train_loss: 0.46279, train_acc:  0.77500, valid_loss: 0.44635, valid_acc: 0.81250\n",
            "eopch: 111, train_loss: 0.44553, train_acc:  0.81250, valid_loss: 0.44302, valid_acc: 0.81250\n",
            "eopch: 112, train_loss: 0.51975, train_acc:  0.61667, valid_loss: 0.43970, valid_acc: 0.93750\n",
            "  >> save weights: 01-01-sequence-prediction.pth\n",
            "eopch: 113, train_loss: 0.51632, train_acc:  0.83333, valid_loss: 0.43642, valid_acc: 0.93750\n",
            "eopch: 114, train_loss: 0.43563, train_acc:  0.93750, valid_loss: 0.43317, valid_acc: 0.93750\n",
            "eopch: 115, train_loss: 0.44639, train_acc:  0.95000, valid_loss: 0.42994, valid_acc: 0.93750\n",
            "eopch: 116, train_loss: 0.50612, train_acc:  0.83333, valid_loss: 0.42673, valid_acc: 0.93750\n",
            "eopch: 117, train_loss: 0.42596, train_acc:  0.93750, valid_loss: 0.42355, valid_acc: 0.93750\n",
            "eopch: 118, train_loss: 0.42278, train_acc:  0.93750, valid_loss: 0.42039, valid_acc: 0.93750\n",
            "eopch: 119, train_loss: 0.43374, train_acc:  0.95000, valid_loss: 0.41726, valid_acc: 0.93750\n",
            "eopch: 120, train_loss: 0.49296, train_acc:  0.83333, valid_loss: 0.41415, valid_acc: 0.93750\n",
            "eopch: 121, train_loss: 0.41340, train_acc:  0.93750, valid_loss: 0.41106, valid_acc: 0.93750\n",
            "eopch: 122, train_loss: 0.41032, train_acc:  0.93750, valid_loss: 0.40800, valid_acc: 0.93750\n",
            "eopch: 123, train_loss: 0.42145, train_acc:  0.95000, valid_loss: 0.40496, valid_acc: 0.93750\n",
            "eopch: 124, train_loss: 0.48025, train_acc:  0.83333, valid_loss: 0.40195, valid_acc: 0.93750\n",
            "eopch: 125, train_loss: 0.41544, train_acc:  0.95000, valid_loss: 0.39897, valid_acc: 0.93750\n",
            "eopch: 126, train_loss: 0.47402, train_acc:  0.83333, valid_loss: 0.39601, valid_acc: 0.93750\n",
            "eopch: 127, train_loss: 0.47089, train_acc:  0.83333, valid_loss: 0.39308, valid_acc: 0.93750\n",
            "eopch: 128, train_loss: 0.39240, train_acc:  0.93750, valid_loss: 0.39018, valid_acc: 0.93750\n",
            "eopch: 129, train_loss: 0.38949, train_acc:  0.93750, valid_loss: 0.38729, valid_acc: 0.93750\n",
            "eopch: 130, train_loss: 0.38660, train_acc:  0.93750, valid_loss: 0.38442, valid_acc: 0.93750\n",
            "eopch: 131, train_loss: 0.39799, train_acc:  0.95000, valid_loss: 0.38158, valid_acc: 0.93750\n",
            "eopch: 132, train_loss: 0.38089, train_acc:  0.93750, valid_loss: 0.37875, valid_acc: 0.93750\n",
            "eopch: 133, train_loss: 0.45277, train_acc:  0.83333, valid_loss: 0.37595, valid_acc: 0.93750\n",
            "eopch: 134, train_loss: 0.37529, train_acc:  0.93750, valid_loss: 0.37317, valid_acc: 0.93750\n",
            "eopch: 135, train_loss: 0.44693, train_acc:  0.83333, valid_loss: 0.37042, valid_acc: 0.93750\n",
            "eopch: 136, train_loss: 0.44399, train_acc:  0.83333, valid_loss: 0.36769, valid_acc: 0.93750\n",
            "eopch: 137, train_loss: 0.44102, train_acc:  0.83333, valid_loss: 0.36499, valid_acc: 0.93750\n",
            "eopch: 138, train_loss: 0.37866, train_acc:  0.95000, valid_loss: 0.36232, valid_acc: 0.93750\n",
            "eopch: 139, train_loss: 0.43513, train_acc:  0.83333, valid_loss: 0.35966, valid_acc: 0.93750\n",
            "eopch: 140, train_loss: 0.35906, train_acc:  0.93750, valid_loss: 0.35703, valid_acc: 0.93750\n",
            "eopch: 141, train_loss: 0.35642, train_acc:  0.93750, valid_loss: 0.35442, valid_acc: 0.93750\n",
            "eopch: 142, train_loss: 0.36809, train_acc:  0.95000, valid_loss: 0.35182, valid_acc: 0.93750\n",
            "eopch: 143, train_loss: 0.42380, train_acc:  0.83333, valid_loss: 0.34925, valid_acc: 0.93750\n",
            "eopch: 144, train_loss: 0.42102, train_acc:  0.83333, valid_loss: 0.34669, valid_acc: 0.93750\n",
            "eopch: 145, train_loss: 0.34612, train_acc:  0.93750, valid_loss: 0.34417, valid_acc: 0.93750\n",
            "eopch: 146, train_loss: 0.35781, train_acc:  0.95000, valid_loss: 0.34166, valid_acc: 0.93750\n",
            "eopch: 147, train_loss: 0.35527, train_acc:  0.95000, valid_loss: 0.33917, valid_acc: 0.93750\n",
            "eopch: 148, train_loss: 0.33859, train_acc:  0.93750, valid_loss: 0.33669, valid_acc: 0.93750\n",
            "eopch: 149, train_loss: 0.35023, train_acc:  0.95000, valid_loss: 0.33423, valid_acc: 0.93750\n",
            "eopch: 150, train_loss: 0.40506, train_acc:  0.83333, valid_loss: 0.33180, valid_acc: 0.93750\n",
            "eopch: 151, train_loss: 0.40247, train_acc:  0.83333, valid_loss: 0.32938, valid_acc: 0.93750\n",
            "eopch: 152, train_loss: 0.39983, train_acc:  0.83333, valid_loss: 0.32699, valid_acc: 0.93750\n",
            "eopch: 153, train_loss: 0.39716, train_acc:  0.83333, valid_loss: 0.32462, valid_acc: 0.93750\n",
            "eopch: 154, train_loss: 0.33804, train_acc:  0.95000, valid_loss: 0.32228, valid_acc: 0.93750\n",
            "eopch: 155, train_loss: 0.32176, train_acc:  0.93750, valid_loss: 0.31994, valid_acc: 1.00000\n",
            "  >> save weights: 01-01-sequence-prediction.pth\n",
            "eopch: 156, train_loss: 0.38932, train_acc:  1.00000, valid_loss: 0.31763, valid_acc: 1.00000\n",
            "eopch: 157, train_loss: 0.33095, train_acc:  1.00000, valid_loss: 0.31533, valid_acc: 1.00000\n",
            "eopch: 158, train_loss: 0.31482, train_acc:  1.00000, valid_loss: 0.31305, valid_acc: 1.00000\n",
            "eopch: 159, train_loss: 0.32629, train_acc:  1.00000, valid_loss: 0.31079, valid_acc: 1.00000\n",
            "eopch: 160, train_loss: 0.32397, train_acc:  1.00000, valid_loss: 0.30854, valid_acc: 1.00000\n",
            "eopch: 161, train_loss: 0.30803, train_acc:  1.00000, valid_loss: 0.30631, valid_acc: 1.00000\n",
            "eopch: 162, train_loss: 0.31937, train_acc:  1.00000, valid_loss: 0.30409, valid_acc: 1.00000\n",
            "eopch: 163, train_loss: 0.31710, train_acc:  1.00000, valid_loss: 0.30189, valid_acc: 1.00000\n",
            "eopch: 164, train_loss: 0.30139, train_acc:  1.00000, valid_loss: 0.29971, valid_acc: 1.00000\n",
            "eopch: 165, train_loss: 0.31258, train_acc:  1.00000, valid_loss: 0.29755, valid_acc: 1.00000\n",
            "eopch: 166, train_loss: 0.36574, train_acc:  1.00000, valid_loss: 0.29540, valid_acc: 1.00000\n",
            "eopch: 167, train_loss: 0.36347, train_acc:  1.00000, valid_loss: 0.29327, valid_acc: 1.00000\n",
            "eopch: 168, train_loss: 0.29281, train_acc:  1.00000, valid_loss: 0.29116, valid_acc: 1.00000\n",
            "eopch: 169, train_loss: 0.30382, train_acc:  1.00000, valid_loss: 0.28907, valid_acc: 1.00000\n",
            "eopch: 170, train_loss: 0.30167, train_acc:  1.00000, valid_loss: 0.28699, valid_acc: 1.00000\n",
            "eopch: 171, train_loss: 0.29952, train_acc:  1.00000, valid_loss: 0.28493, valid_acc: 1.00000\n",
            "eopch: 172, train_loss: 0.29739, train_acc:  1.00000, valid_loss: 0.28288, valid_acc: 1.00000\n",
            "eopch: 173, train_loss: 0.29526, train_acc:  1.00000, valid_loss: 0.28085, valid_acc: 1.00000\n",
            "eopch: 174, train_loss: 0.29314, train_acc:  1.00000, valid_loss: 0.27883, valid_acc: 1.00000\n",
            "eopch: 175, train_loss: 0.34596, train_acc:  1.00000, valid_loss: 0.27683, valid_acc: 1.00000\n",
            "eopch: 176, train_loss: 0.34380, train_acc:  1.00000, valid_loss: 0.27485, valid_acc: 1.00000\n",
            "eopch: 177, train_loss: 0.27442, train_acc:  1.00000, valid_loss: 0.27287, valid_acc: 1.00000\n",
            "eopch: 178, train_loss: 0.28488, train_acc:  1.00000, valid_loss: 0.27092, valid_acc: 1.00000\n",
            "eopch: 179, train_loss: 0.28286, train_acc:  1.00000, valid_loss: 0.26898, valid_acc: 1.00000\n",
            "eopch: 180, train_loss: 0.28085, train_acc:  1.00000, valid_loss: 0.26706, valid_acc: 1.00000\n",
            "eopch: 181, train_loss: 0.27885, train_acc:  1.00000, valid_loss: 0.26515, valid_acc: 1.00000\n",
            "eopch: 182, train_loss: 0.33119, train_acc:  1.00000, valid_loss: 0.26326, valid_acc: 1.00000\n",
            "eopch: 183, train_loss: 0.32911, train_acc:  1.00000, valid_loss: 0.26138, valid_acc: 1.00000\n",
            "eopch: 184, train_loss: 0.27295, train_acc:  1.00000, valid_loss: 0.25951, valid_acc: 1.00000\n",
            "eopch: 185, train_loss: 0.25911, train_acc:  1.00000, valid_loss: 0.25765, valid_acc: 1.00000\n",
            "eopch: 186, train_loss: 0.32283, train_acc:  1.00000, valid_loss: 0.25582, valid_acc: 1.00000\n",
            "eopch: 187, train_loss: 0.25543, train_acc:  1.00000, valid_loss: 0.25399, valid_acc: 1.00000\n",
            "eopch: 188, train_loss: 0.26533, train_acc:  1.00000, valid_loss: 0.25218, valid_acc: 1.00000\n",
            "eopch: 189, train_loss: 0.26346, train_acc:  1.00000, valid_loss: 0.25039, valid_acc: 1.00000\n",
            "eopch: 190, train_loss: 0.25000, train_acc:  1.00000, valid_loss: 0.24861, valid_acc: 1.00000\n",
            "eopch: 191, train_loss: 0.24822, train_acc:  1.00000, valid_loss: 0.24685, valid_acc: 1.00000\n",
            "eopch: 192, train_loss: 0.31095, train_acc:  1.00000, valid_loss: 0.24510, valid_acc: 1.00000\n",
            "eopch: 193, train_loss: 0.30900, train_acc:  1.00000, valid_loss: 0.24336, valid_acc: 1.00000\n",
            "eopch: 194, train_loss: 0.25437, train_acc:  1.00000, valid_loss: 0.24163, valid_acc: 1.00000\n",
            "eopch: 195, train_loss: 0.25259, train_acc:  1.00000, valid_loss: 0.23992, valid_acc: 1.00000\n",
            "eopch: 196, train_loss: 0.30313, train_acc:  1.00000, valid_loss: 0.23821, valid_acc: 1.00000\n",
            "eopch: 197, train_loss: 0.24905, train_acc:  1.00000, valid_loss: 0.23652, valid_acc: 1.00000\n",
            "eopch: 198, train_loss: 0.24729, train_acc:  1.00000, valid_loss: 0.23483, valid_acc: 1.00000\n",
            "eopch: 199, train_loss: 0.23448, train_acc:  1.00000, valid_loss: 0.23316, valid_acc: 1.00000\n",
            "eopch: 200, train_loss: 0.24379, train_acc:  1.00000, valid_loss: 0.23151, valid_acc: 1.00000\n"
          ],
          "name": "stdout"
        }
      ]
    },
    {
      "cell_type": "code",
      "metadata": {
        "id": "0G4Cgho12g2s"
      },
      "source": [
        "def draw_history(history):\n",
        "    \"\"\"\n",
        "    학습과정 그래프 출력\n",
        "    :param history: 학습 이력\n",
        "    \"\"\"\n",
        "    plt.figure(figsize=(12, 4))\n",
        "\n",
        "    plt.subplot(1, 2, 1)\n",
        "    plt.plot(history[\"train_loss\"], \"b-\", label=\"train_loss\")\n",
        "    plt.plot(history[\"valid_loss\"], \"r--\", label=\"valid_loss\")\n",
        "    plt.xlabel(\"Epoch\")\n",
        "    plt.legend()\n",
        "\n",
        "    plt.subplot(1, 2, 2)\n",
        "    plt.plot(history[\"train_acc\"], \"k--\", label=\"train_acc\")\n",
        "    plt.plot(history[\"valid_acc\"], \"k--\", label=\"valid_acc\")\n",
        "    plt.xlabel(\"Epoch\")\n",
        "    plt.legend()\n",
        "\n",
        "    plt.show()"
      ],
      "execution_count": null,
      "outputs": []
    },
    {
      "cell_type": "code",
      "metadata": {
        "id": "0V_-Lq6N5Ur3",
        "colab": {
          "base_uri": "https://localhost:8080/",
          "height": 279
        },
        "outputId": "29b30e35-21ad-4a41-c729-f4bdff039f28"
      },
      "source": [
        "# 학습과정 그래프 출력\n",
        "draw_history(history)"
      ],
      "execution_count": null,
      "outputs": [
        {
          "output_type": "display_data",
          "data": {
            "image/png": "[encoded data removed]",
            "text/plain": [
              "<Figure size 864x288 with 2 Axes>"
            ]
          },
          "metadata": {
            "tags": [],
            "needs_background": "light"
          }
        }
      ]
    },
    {
      "cell_type": "markdown",
      "metadata": {
        "id": "Ax2QQK0kBvW9"
      },
      "source": [
        "# 테스트"
      ]
    },
    {
      "cell_type": "code",
      "metadata": {
        "colab": {
          "base_uri": "https://localhost:8080/"
        },
        "id": "4WwLTcSd9Rwb",
        "outputId": "98c90918-ee97-4d65-c40d-cec6eeec7c5a"
      },
      "source": [
        "# 테스트용 모델 생성\n",
        "model = SequencePrediction(len(word_to_id))\n",
        "model.to(args.device)\n",
        "\n",
        "print(model)"
      ],
      "execution_count": null,
      "outputs": [
        {
          "output_type": "stream",
          "text": [
            "SequencePrediction(\n",
            "  (embed): Embedding(9, 4)\n",
            "  (linear): Linear(in_features=4, out_features=2, bias=True)\n",
            ")\n"
          ],
          "name": "stdout"
        }
      ]
    },
    {
      "cell_type": "code",
      "metadata": {
        "colab": {
          "base_uri": "https://localhost:8080/"
        },
        "id": "7o0W8I_TBzVa",
        "outputId": "070a704f-6147-4366-8973-d3424d6977e9"
      },
      "source": [
        "# 랜덤 초기화 모델 평가\n",
        "valid_loss, valid_acc = eval_epoch(args, model, test_loader, loss_fn)\n",
        "\n",
        "print(valid_loss, valid_acc)"
      ],
      "execution_count": null,
      "outputs": [
        {
          "output_type": "stream",
          "text": [
            "0.9769936203956604 0.6125\n"
          ],
          "name": "stdout"
        }
      ]
    },
    {
      "cell_type": "code",
      "metadata": {
        "colab": {
          "base_uri": "https://localhost:8080/"
        },
        "id": "FNCjbpIsGJ3m",
        "outputId": "52a6ea46-5849-4916-dbe9-3ef940c3590b"
      },
      "source": [
        "# 저장된 데이터 로드\n",
        "save_dict = torch.load(args.save_path)\n",
        "\n",
        "print(save_dict)"
      ],
      "execution_count": null,
      "outputs": [
        {
          "output_type": "stream",
          "text": [
            "{'state_dict': OrderedDict([('embed.weight', tensor([[-1.3697, -0.1225, -0.1330, -1.0052],\n",
            "        [ 0.6896,  0.2570,  0.1427,  0.7283],\n",
            "        [-0.1881, -0.8054, -0.1342,  0.4300],\n",
            "        [-0.0032,  0.1859,  0.5675,  0.5377],\n",
            "        [ 0.2104, -1.3412, -0.9045,  2.3286],\n",
            "        [-1.9885,  0.1484,  0.0136,  0.6490],\n",
            "        [ 0.0025, -0.1294, -1.0095, -1.8979],\n",
            "        [-0.7169, -1.0514, -0.6841,  0.4772],\n",
            "        [-0.7840,  0.3599, -0.8301,  1.2056]])), ('linear.weight', tensor([[-0.5688, -0.1967, -0.0723,  0.4344],\n",
            "        [ 0.4087, -0.1717,  0.2646, -0.0678]])), ('linear.bias', tensor([-0.0290,  0.0501]))]), 'valid_acc': 1.0}\n"
          ],
          "name": "stdout"
        }
      ]
    },
    {
      "cell_type": "code",
      "metadata": {
        "colab": {
          "base_uri": "https://localhost:8080/"
        },
        "id": "uqzs6cEMHKTG",
        "outputId": "398e75a9-ffe9-4d9d-a95f-91dd3828f759"
      },
      "source": [
        "# 학습된 weights로 모델 초기화\n",
        "model.load_state_dict(save_dict['state_dict'])"
      ],
      "execution_count": null,
      "outputs": [
        {
          "output_type": "execute_result",
          "data": {
            "text/plain": [
              "<All keys matched successfully>"
            ]
          },
          "metadata": {
            "tags": []
          },
          "execution_count": 108
        }
      ]
    },
    {
      "cell_type": "code",
      "metadata": {
        "colab": {
          "base_uri": "https://localhost:8080/"
        },
        "id": "YX3a_T5TI3BO",
        "outputId": "f7e76eef-0a56-4381-df70-357b85a3f822"
      },
      "source": [
        "# 학습된 weights로 초기화 모델 평가\n",
        "valid_loss, valid_acc = eval_epoch(args, model, test_loader, loss_fn)\n",
        "\n",
        "print(valid_loss, valid_acc)"
      ],
      "execution_count": null,
      "outputs": [
        {
          "output_type": "stream",
          "text": [
            "0.31994201987981796 1.0\n"
          ],
          "name": "stdout"
        }
      ]
    },
    {
      "cell_type": "markdown",
      "metadata": {
        "id": "cFt1yULNKGIh"
      },
      "source": [
        "# 배포"
      ]
    },
    {
      "cell_type": "code",
      "metadata": {
        "colab": {
          "base_uri": "https://localhost:8080/"
        },
        "id": "GT9YrcUIJZDT",
        "outputId": "5dc92dd2-5b06-4193-ef98-6283490aaba1"
      },
      "source": [
        "# 배포용 모델 생성\n",
        "model = SequencePrediction(len(word_to_id))\n",
        "model.to(args.device)\n",
        "\n",
        "# 저장된 데이터 로드\n",
        "save_dict = torch.load(args.save_path)\n",
        "\n",
        "# 학습된 weights로 모델 초기화\n",
        "model.load_state_dict(save_dict['state_dict'])"
      ],
      "execution_count": null,
      "outputs": [
        {
          "output_type": "execute_result",
          "data": {
            "text/plain": [
              "<All keys matched successfully>"
            ]
          },
          "metadata": {
            "tags": []
          },
          "execution_count": 100
        }
      ]
    },
    {
      "cell_type": "code",
      "metadata": {
        "id": "RzFZBZ-_fVk5"
      },
      "source": [
        "def do_predict(word_to_id, model, string):\n",
        "    \"\"\"\n",
        "    입력에 대한 답변 생성하는 함수\n",
        "    :param word_to_id: vocabulary\n",
        "    :param model: model\n",
        "    :param string: 입력 문자열\n",
        "    \"\"\"\n",
        "    # token 생성\n",
        "    token = [word_to_id[w] for w in string.strip().split()]\n",
        "\n",
        "    model.eval()\n",
        "    with torch.no_grad():\n",
        "        inputs = torch.tensor([token]).to(args.device)\n",
        "        logits = model(inputs)\n",
        "        _, indices = logits.max(-1)\n",
        "        y_pred = indices[0].numpy()\n",
        "    result = [\"명사\" if i == 1 else \"기타\" for i in y_pred]\n",
        "    return result"
      ],
      "execution_count": null,
      "outputs": []
    },
    {
      "cell_type": "code",
      "metadata": {
        "colab": {
          "base_uri": "https://localhost:8080/"
        },
        "id": "o3gPJUQegLbu",
        "outputId": "9e082186-fd01-4e09-9cbc-8ea27ee339cb"
      },
      "source": [
        "# 예측 실행\n",
        "do_predict(word_to_id,model, \"당신은 선생님 입니다\")"
      ],
      "execution_count": null,
      "outputs": [
        {
          "output_type": "execute_result",
          "data": {
            "text/plain": [
              "['기타', '명사', '기타']"
            ]
          },
          "metadata": {
            "tags": []
          },
          "execution_count": 102
        }
      ]
    },
    {
      "cell_type": "code",
      "metadata": {
        "id": "PnlohL-OgklM"
      },
      "source": [
        ""
      ],
      "execution_count": null,
      "outputs": []
    }
  ]
}